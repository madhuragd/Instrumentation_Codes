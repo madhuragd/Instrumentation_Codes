{
 "cells": [
  {
   "cell_type": "code",
   "execution_count": 1,
   "id": "08d11f9b-7103-48d3-bc67-32bf4cb36430",
   "metadata": {},
   "outputs": [],
   "source": [
    "# # import the opencv library\n",
    "# import cv2\n",
    "  \n",
    "# vid = cv2.VideoCapture(0)\n",
    "  \n",
    "# while(True):\n",
    "#     ret, frame = vid.read()\n",
    "#     # cv2.normalize(frame, frame, 0, 255, cv2.NORM_MINMAX)\n",
    "#     height = frame.shape[0]\n",
    "#     width = frame.shape[1]\n",
    "#     cv2.line(frame, (245, 80), (245, 100), (255, 255, 255), 2)\n",
    "#     cv2.line(frame, (235, 90), (255, 90), (255, 255, 255), 2)\n",
    "#     cv2.imshow('frame', frame)\n",
    "#     if cv2.waitKey(1) & 0xFF == ord('q'):\n",
    "#         break\n",
    "  \n",
    "# vid.release()\n",
    "# # Destroy all the windows\n",
    "# cv2.destroyAllWindows()"
   ]
  },
  {
   "cell_type": "code",
   "execution_count": 3,
   "id": "a49fc0d8-58a4-4fe5-b489-6f44d6708a02",
   "metadata": {},
   "outputs": [
    {
     "ename": "TypeError",
     "evalue": "can only concatenate str (not \"NoneType\") to str",
     "output_type": "error",
     "traceback": [
      "\u001b[1;31m---------------------------------------------------------------------------\u001b[0m",
      "\u001b[1;31mTypeError\u001b[0m                                 Traceback (most recent call last)",
      "Input \u001b[1;32mIn [3]\u001b[0m, in \u001b[0;36mmouse_func\u001b[1;34m(event, x, y, flags, param)\u001b[0m\n\u001b[0;32m     19\u001b[0m \u001b[38;5;28;01mif\u001b[39;00m event \u001b[38;5;241m==\u001b[39m cv2\u001b[38;5;241m.\u001b[39mEVENT_LBUTTONDOWN:\n\u001b[0;32m     20\u001b[0m     filename \u001b[38;5;241m=\u001b[39m easygui\u001b[38;5;241m.\u001b[39menterbox(\u001b[38;5;124m'\u001b[39m\u001b[38;5;124mimage filename: \u001b[39m\u001b[38;5;124m'\u001b[39m)\n\u001b[1;32m---> 22\u001b[0m     cv2\u001b[38;5;241m.\u001b[39mimwrite(\u001b[43mpath\u001b[49m\u001b[38;5;241;43m+\u001b[39;49m\u001b[38;5;124;43m'\u001b[39;49m\u001b[38;5;130;43;01m\\\\\u001b[39;49;00m\u001b[38;5;124;43m'\u001b[39;49m\u001b[38;5;241;43m+\u001b[39;49m\u001b[43mfilename\u001b[49m\u001b[38;5;241m+\u001b[39m\u001b[38;5;124m'\u001b[39m\u001b[38;5;124m.png\u001b[39m\u001b[38;5;124m'\u001b[39m,frame)\n\u001b[0;32m     23\u001b[0m     \u001b[38;5;66;03m# details='details'\u001b[39;00m\n\u001b[0;32m     24\u001b[0m     \u001b[38;5;66;03m# with open('./details.txt', 'a') as f:\u001b[39;00m\n\u001b[0;32m     25\u001b[0m     \u001b[38;5;66;03m#     f.write(details)\u001b[39;00m\n\u001b[0;32m     26\u001b[0m     \u001b[38;5;28mprint\u001b[39m(\u001b[38;5;124m\"\u001b[39m\u001b[38;5;124mImage taken succesfully as \u001b[39m\u001b[38;5;124m\"\u001b[39m,path\u001b[38;5;241m+\u001b[39m\u001b[38;5;124m'\u001b[39m\u001b[38;5;130;01m\\\\\u001b[39;00m\u001b[38;5;124m'\u001b[39m\u001b[38;5;241m+\u001b[39mfilename\u001b[38;5;241m+\u001b[39m\u001b[38;5;124m'\u001b[39m\u001b[38;5;124m.png\u001b[39m\u001b[38;5;124m'\u001b[39m)\n",
      "\u001b[1;31mTypeError\u001b[0m: can only concatenate str (not \"NoneType\") to str"
     ]
    },
    {
     "name": "stdout",
     "output_type": "stream",
     "text": [
      "Application Closed\n"
     ]
    }
   ],
   "source": [
    "import cv2\n",
    "import os\n",
    "import easygui\n",
    "    # print('Your file is saved as:',path+'\\\\'+sample+'_scan'+str(scan_num)+'_MH_XY.csv')    \n",
    "from datetime import datetime\n",
    "date = datetime.today().strftime('%Y%m%d') #'20221207'\n",
    "folder_name = datetime.today().strftime('%B-%Y') #'20221207'\n",
    "path = 'D:\\\\Data\\\\'+folder_name+'\\\\'+date\n",
    "isExist = os.path.exists(path)\n",
    "if not isExist:\n",
    "    os.makedirs(path)\n",
    "\n",
    "video_capture = cv2.VideoCapture(0)\n",
    "\n",
    "status = 1\n",
    "# mouse callback function\n",
    "def mouse_func(event,x,y,flags,param):\n",
    "    global status\n",
    "    if event == cv2.EVENT_LBUTTONDOWN:\n",
    "        filename = easygui.enterbox('image filename: ')\n",
    "        \n",
    "        cv2.imwrite(path+'\\\\'+filename+'.png',frame)\n",
    "        # details='details'\n",
    "        # with open('./details.txt', 'a') as f:\n",
    "        #     f.write(details)\n",
    "        print(\"Image taken succesfully as \",path+'\\\\'+filename+'.png')\n",
    "\n",
    "    elif event == cv2.EVENT_RBUTTONDOWN:\n",
    "        status = 0\n",
    "        # print(\"Closing application\")\n",
    "\n",
    "cv2.namedWindow('Video')\n",
    "cv2.setMouseCallback('Video',mouse_func)\n",
    "\n",
    "while True:\n",
    "    # Capture frame-by-frame\n",
    "    ret, frame = video_capture.read()\n",
    "    cv2.line(frame, (245, 80), (245, 100), (255, 255, 255), 2)\n",
    "    cv2.line(frame, (235, 90), (255, 90), (255, 255, 255), 2)\n",
    "    pressedKey = cv2.waitKey(1) & 0xFF\n",
    "\n",
    "    #take picture\n",
    "    if pressedKey == ord('s'):\n",
    "        filename = easygui.enterbox('image filename: ')\n",
    "        cv2.imwrite(path+'\\\\'+filename+'.png',frame)\n",
    "        # details='details'\n",
    "        # with open('./details.txt', 'a') as f:\n",
    "        #     f.write(details)\n",
    "        print(\"Image taken succesfully as \",path+'\\\\'+filename+'.png')\n",
    "        # cv2.imwrite('save.png',frame)\n",
    "        # # details='details'\n",
    "        # # with open('./details.txt', 'a') as f:\n",
    "        # #     f.write(details)\n",
    "        # print(\"Image taken succesfully\")\n",
    "    #quit\n",
    "    elif pressedKey== ord('q') or status == 0:\n",
    "        # print(\"Closing application\")\n",
    "        break\n",
    "    cv2.imshow('Video', frame)\n",
    "print(\"Application Closed\")\n",
    "cv2.destroyAllWindows()"
   ]
  },
  {
   "cell_type": "code",
   "execution_count": null,
   "id": "f80ca231-28ed-4ea1-bd66-02c1f5239031",
   "metadata": {},
   "outputs": [],
   "source": []
  }
 ],
 "metadata": {
  "kernelspec": {
   "display_name": "Python 3 (ipykernel)",
   "language": "python",
   "name": "python3"
  },
  "language_info": {
   "codemirror_mode": {
    "name": "ipython",
    "version": 3
   },
   "file_extension": ".py",
   "mimetype": "text/x-python",
   "name": "python",
   "nbconvert_exporter": "python",
   "pygments_lexer": "ipython3",
   "version": "3.9.12"
  }
 },
 "nbformat": 4,
 "nbformat_minor": 5
}
