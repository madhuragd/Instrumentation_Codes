{
 "cells": [
  {
   "cell_type": "code",
   "execution_count": 12,
   "id": "7228f61a-fbfd-468a-8310-0f78ce3fe2b1",
   "metadata": {},
   "outputs": [],
   "source": [
    "# import matplotlib.pyplot as plt\n",
    "# from IPython.display import clear_output\n",
    "\n",
    "\n",
    "from TimeTagger import *\n",
    "import numpy as np\n",
    "import matplotlib.pyplot as plt\n",
    "from IPython.display import clear_output\n",
    "import time\n",
    "from __future__ import print_function\n",
    "import sys\n",
    "tt = createTimeTagger()\n",
    "\n",
    "PIXEL_START_CH = 1 # Rising edge on input 1\n",
    "PIXEL_STOP_CH = CHANNEL_UNUSED  # Falling edge on input 1\n",
    "SPD_CH = 3\n",
    "# tt.setTriggerLevel(PIXEL_START_CH, 0.5)\n",
    "nx_pix = 20\n",
    "ny_pix = 20\n",
    "n_pixels = nx_pix * ny_pix\n",
    "\n",
    "cbm = CountBetweenMarkers(tt, SPD_CH, PIXEL_START_CH, PIXEL_STOP_CH, n_pixels)\n",
    "# i=0\n",
    "# while i<20:\n",
    "#     counts = cbm.getData()\n",
    "#     # img = np.reshape(counts, nx_pix, ny_pix)\n",
    "#     img = counts\n",
    "#     plt.imshow(img)\n",
    "#     plt.pause(0.5)\n",
    "#     i=i+1\n",
    "\n",
    "binwidth = 1e9 #in ps\n",
    "n_values = 1000\n",
    "cr = Counter(tt, [3],binwidth,n_values)\n",
    "crate = Countrate(tt,[3])\n",
    "# cbm = CountBetweenMarkers(tt, SPD_CH, PIXEL_START_CH)\n",
    "# x_step = 1 #\n",
    "# y_step = 2\n",
    "# y_move = 3\n",
    "# x_move = 9\n",
    "\n",
    "\n",
    "    \n",
    "#     # i = i + 1\n",
    "    # cr.stop()\n",
    "# img[0][3]\n",
    "\n",
    "\n",
    "\n",
    "# crate.getData()\n"
   ]
  },
  {
   "cell_type": "code",
   "execution_count": 15,
   "id": "f74edfab-f092-401e-be08-a52d8ca1fb47",
   "metadata": {},
   "outputs": [
    {
     "data": {
      "text/plain": [
       "0"
      ]
     },
     "execution_count": 15,
     "metadata": {},
     "output_type": "execute_result"
    }
   ],
   "source": []
  },
  {
   "cell_type": "code",
   "execution_count": 2,
   "id": "f606c459-b5dc-4bf4-9a12-61e181e5ceec",
   "metadata": {},
   "outputs": [],
   "source": [
    "# cbm.startFor(250e12)\n",
    "# # cr.waitUntilFinished()\n",
    "# i = 0\n",
    "# # Print the resulting data\n",
    "# while cbm.isRunning():\n",
    "#     # print(cr.getData()*1000,end='\\r')\n",
    "#     clear_output(wait=True)\n",
    "    \n",
    "#     # img = cbm.getData()\n",
    "#     # plt.plot(range(img.shape[0]),img)\n",
    "    \n",
    "# # print(img.shape[0])\n",
    "#     # plt.plot(range(img.shape[1]),img[0][range(img.shape[1])])\n",
    "#     # plt.show()\n",
    "#     # for i in range(5):\n",
    "#     #     daq_sqwave(1)\n",
    "#     #     time.sleep(0.1)\n",
    "#     # time.sleep(10)\n",
    "# # p = raster_scan(x_move,y_move,x_step,y_step)    \n",
    "#     counts = cbm.getData()\n",
    "#     img = np.reshape(counts, (ny_pix, nx_pix))\n",
    "#     img[1::2,:] = np.fliplr(img[1::2,:])\n",
    "#     print(img,end='\\r')\n",
    "    \n",
    "#     # img = counts\n",
    "#     # plt.imshow(img)\n",
    "#     # plt.show()"
   ]
  },
  {
   "cell_type": "code",
   "execution_count": 4,
   "id": "2722e68a-addc-4dd7-83b0-09d152987648",
   "metadata": {},
   "outputs": [
    {
     "name": "stdout",
     "output_type": "stream",
     "text": [
      "[258.91882228]\r"
     ]
    }
   ],
   "source": [
    "cr = Countrate(tt, [3])\n",
    "cr.startFor(10e12)\n",
    "# cr.waitUntilFinished()\n",
    "i = 0\n",
    "# Print the resulting data\n",
    "while cr.isRunning():\n",
    "    print(cr.getData(),end='\\r')\n",
    "    # cr.stop()\n",
    "    # time.sleep(1)\n",
    "    # i = i + 1"
   ]
  },
  {
   "cell_type": "code",
   "execution_count": 21,
   "id": "1a88f4f0-231e-4bb6-9294-2652f7d0c650",
   "metadata": {},
   "outputs": [],
   "source": [
    "cbm.startFor(250e12)\n",
    "# cr.waitUntilFinished()\n",
    "i = 0\n",
    "# Print the resulting data\n",
    "while cbm.isRunning():\n",
    "    # print(cr.getData()*1000,end='\\r')\n",
    "    clear_output(wait=True)\n",
    "    \n",
    "    # img = cbm.getData()\n",
    "    # plt.plot(range(img.shape[0]),img)\n",
    "    \n",
    "# print(img.shape[0])\n",
    "    # plt.plot(range(img.shape[1]),img[0][range(img.shape[1])])\n",
    "    # plt.show()\n",
    "    # for i in range(5):\n",
    "    #     daq_sqwave(1)\n",
    "    #     time.sleep(0.1)\n",
    "    # time.sleep(10)\n",
    "# p = raster_scan(x_move,y_move,x_step,y_step)    \n",
    "    counts = cbm.getData()\n",
    "    img = np.reshape(counts, (ny_pix, nx_pix))\n",
    "    img[1::2,:] = np.fliplr(img[1::2,:])\n",
    "    # img = counts\n",
    "    plt.imshow(img)\n",
    "    plt.show()\n",
    "\n",
    "num = 3\n",
    "sample = 'WSe2'\n",
    "path = 'D:\\\\Data\\\\November-2022\\\\20221125'\n",
    "\n",
    "plt.savefig(path+\"\\\\test\"+str(num)+\"_\"+sample+\"_swabian.png\",format='png')"
   ]
  },
  {
   "cell_type": "code",
   "execution_count": 73,
   "id": "a9c6e14f-492b-446d-89da-6ad237c75321",
   "metadata": {},
   "outputs": [
    {
     "data": {
      "image/png": "[encoded data removed]",
      "text/plain": [
       "<Figure size 432x288 with 1 Axes>"
      ]
     },
     "metadata": {
      "needs_background": "light"
     },
     "output_type": "display_data"
    }
   ],
   "source": [
    "from TimeTagger import *\n",
    "import numpy as np\n",
    "import matplotlib.pyplot as plt\n",
    "from IPython.display import clear_output\n",
    "import time\n",
    "from __future__ import print_function\n",
    "import sys\n",
    "tt = createTimeTagger()\n",
    "\n",
    "\n",
    "tt.getOverflowsAndClear()\n",
    "PIXEL_START_CH = 2 # Rising edge on input 1\n",
    "SPD_CH = 3\n",
    "n_values = 6600\n",
    "binwidth = 5\n",
    "chist = Histogram(tt, SPD_CH, PIXEL_START_CH, binwidth,n_values)\n",
    "chist.startFor(30e12)\n",
    "# # Print the resulting data\n",
    "while chist.isRunning():\n",
    "    arr = chist.getData()\n",
    "    \n",
    "    clear_output(wait=True)\n",
    "    \n",
    "    # print(chist.getData())\n",
    "    # time.sleep(20)\n",
    "    # chist.stop()\n",
    "    plt.plot(range(len(arr)),arr[range(len(arr))])\n",
    "    plt.show()\n",
    "\n",
    "    # i = i + 1"
   ]
  },
  {
   "cell_type": "code",
   "execution_count": 68,
   "id": "67d4d9cf-e483-4914-97df-ac97a0587fef",
   "metadata": {},
   "outputs": [],
   "source": [
    "# p1 = [i[2].T for i in arr]\n",
    "import pandas as pd\n",
    "df = pd.DataFrame(arr)\n",
    "# len(p1)\n",
    "df\n",
    "# df[3]\n",
    "df.to_csv('fl_test2.csv', index = False)"
   ]
  },
  {
   "cell_type": "code",
   "execution_count": 55,
   "id": "7e13ff26-ed36-44c7-9d1a-fc0ae0928372",
   "metadata": {},
   "outputs": [
    {
     "name": "stdout",
     "output_type": "stream",
     "text": [
      "[[0 0 0 ... 0 0 1]]\n"
     ]
    }
   ],
   "source": [
    "tt.getOverflowsAndClear()\n",
    "\n",
    "next_channel = 1\n",
    "start_channel = 2\n",
    "sync_channel = 1\n",
    "click_channel = 3\n",
    "n_bins = 6600\n",
    "binwidth = 5\n",
    "\n",
    "flim = TimeDifferences(tt, click_channel, start_channel, next_channel, sync_channel, binwidth, n_bins, n_histograms=1)\n",
    "flim.startFor(10e12)\n",
    "while flim.isRunning():\n",
    "    arr_flim = flim.getData()\n",
    "print(arr_flim)"
   ]
  },
  {
   "cell_type": "code",
   "execution_count": 87,
   "id": "90b4f6a0-9a98-49c0-a401-8d004b6aa88f",
   "metadata": {},
   "outputs": [
    {
     "data": {
      "text/plain": [
       "[<matplotlib.lines.Line2D at 0x21a8a83b850>]"
      ]
     },
     "execution_count": 87,
     "metadata": {},
     "output_type": "execute_result"
    },
    {
     "data": {
      "image/png": "[encoded data removed]",
      "text/plain": [
       "<Figure size 432x288 with 1 Axes>"
      ]
     },
     "metadata": {
      "needs_background": "light"
     },
     "output_type": "display_data"
    }
   ],
   "source": [
    "# print(arr_flim.shape)\n",
    "m = range(len(arr))\n",
    "plt.plot(m,arr[range(len(arr))])\n"
   ]
  },
  {
   "cell_type": "code",
   "execution_count": null,
   "id": "d5e5d494-6133-4f6d-be9e-d9660afa878b",
   "metadata": {},
   "outputs": [],
   "source": [
    "# jupyter notebook --NotebookApp.iopub_data_rate_limit=1.0e10\n",
    "while True:\n",
    "    tt.getOverflowsAndClear()\n",
    "    "
   ]
  },
  {
   "cell_type": "code",
   "execution_count": 81,
   "id": "fedf6ea0-78b9-4a79-baf9-3f7fb90fdf6d",
   "metadata": {},
   "outputs": [
    {
     "data": {
      "text/plain": [
       "1"
      ]
     },
     "execution_count": 81,
     "metadata": {},
     "output_type": "execute_result"
    }
   ],
   "source": [
    "tt.getOverflowsAndClear()"
   ]
  },
  {
   "cell_type": "code",
   "execution_count": 7,
   "id": "45153f31-3c2c-4ef5-a8c7-5f0ac2251212",
   "metadata": {},
   "outputs": [],
   "source": [
    "import matplotlib.pyplot as plt\n",
    "from IPython.display import clear_output\n",
    "binwidth = 1e9 #in ps\n",
    "n_values = 1000\n",
    "cr = Counter(tt, [3],binwidth,n_values)\n",
    "# cr.startFor(10e12)\n",
    "# cr.waitUntilFinished()\n",
    "i = 0\n",
    "# Print the resulting data\n",
    "while cr.isRunning():\n",
    "    # print(cr.getData()*1000,end='\\r')\n",
    "    \n",
    "    clear_output(wait=True)\n",
    "    \n",
    "    # time.sleep(10)\n",
    "    img = cr.getData()\n",
    "    plt.plot(range(img.shape[1]),img[0][range(img.shape[1])])\n",
    "    plt.show()\n",
    "#     # i = i + 1\n",
    "#     cr.stop()\n",
    "# img[0][3]"
   ]
  },
  {
   "cell_type": "code",
   "execution_count": null,
   "id": "a8bcd653-c159-47da-8567-345c90773abc",
   "metadata": {},
   "outputs": [],
   "source": [
    "import pandas as pd\n",
    "df = pd.DataFrame(counts, columns = ['Counts'])\n",
    "path = 'D:\\\\Data\\\\November-2022\\\\20221125'\n",
    "num = 3\n",
    "sample = 'WSe2'\n",
    "# path = 'C:\\\\Users\\\\Praveen\\\\Desktop\\\\NVspectrum\\\\September-2022\\\\28_10_2022'\n",
    "df.to_csv(path+'\\\\live_scan_test'+str(num)+'_'+str(sample)+'_swabian_counts.csv', index=False)"
   ]
  },
  {
   "cell_type": "code",
   "execution_count": null,
   "id": "6eab38dd-7eb6-41d0-998e-ef47c47da3bf",
   "metadata": {},
   "outputs": [],
   "source": [
    "# counts.shape"
   ]
  },
  {
   "cell_type": "code",
   "execution_count": null,
   "id": "2a6e0c2f-acba-4ed0-ab3f-e0df670d236e",
   "metadata": {},
   "outputs": [],
   "source": [
    "plt.imshow(img)\n",
    "plt.show()\n",
    "\n",
    "plt.savefig(path+'\\\\live_scan_test2_nanodiamond_swabian_img.png',format='png')"
   ]
  },
  {
   "cell_type": "code",
   "execution_count": 82,
   "id": "c4664753-f052-47d4-b4f4-a0caaf30281e",
   "metadata": {},
   "outputs": [
    {
     "data": {
      "text/plain": [
       "True"
      ]
     },
     "execution_count": 82,
     "metadata": {},
     "output_type": "execute_result"
    }
   ],
   "source": [
    "freeTimeTagger(tt)"
   ]
  },
  {
   "cell_type": "code",
   "execution_count": null,
   "id": "43b18c40-1e3b-42b1-8376-16c251b54b5c",
   "metadata": {},
   "outputs": [],
   "source": [
    "# st = TimeDifferences(tt, SPD_CH, start_channel=, next_channel=CHANNEL_UNUSED, sync_channel=2, binwidth=10, n_bins=1000, n_histograms=1)\n",
    "# st.getData()\n",
    "cr.getData()"
   ]
  }
 ],
 "metadata": {
  "kernelspec": {
   "display_name": "Python 3 (ipykernel)",
   "language": "python",
   "name": "python3"
  },
  "language_info": {
   "codemirror_mode": {
    "name": "ipython",
    "version": 3
   },
   "file_extension": ".py",
   "mimetype": "text/x-python",
   "name": "python",
   "nbconvert_exporter": "python",
   "pygments_lexer": "ipython3",
   "version": "3.9.12"
  }
 },
 "nbformat": 4,
 "nbformat_minor": 5
}
