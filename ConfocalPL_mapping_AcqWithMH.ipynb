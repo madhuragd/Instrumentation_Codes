{
 "cells": [
  {
   "cell_type": "code",
   "execution_count": 1,
   "id": "f8b3b74b-049f-4c8c-89c0-a7b4ac20f0e0",
   "metadata": {},
   "outputs": [],
   "source": [
    "import nidaqmx\n",
    "import os\n",
    "import time\n",
    "import numpy as np\n",
    "import matplotlib.pyplot as plt\n",
    "\n",
    "# import pyfirmata\n",
    "# import time\n",
    "# board = pyfirmata.Arduino('COM3')\n",
    "\n",
    "# board.exit()\n",
    "\n",
    "\n",
    "# task_write0 = nidaqmx.Task()\n",
    "# task_write0.ao_channels.add_ao_voltage_chan(\"Dev5/ao1\", min_val=0, max_val=5)\n",
    "\n",
    "# def daq_sqwave(n):\n",
    "#     for _ in range(n):\n",
    "#         task_write0.write(5) ## Give Voltage Value for pk-pk (5 V for Marker and 0.5 V for Sync)\n",
    "#         # task_write0.stop()\n",
    "#         time.sleep(0.01) ### Pulse width\n",
    "#         task_write0.write(0)\n",
    "#         task_write0.stop()\n",
    "#         # task_dig.stop()\n",
    "#         time.sleep(0.1) ### Time between two operations of for loop\n",
    "#         # task_dig.stop()\n",
    "#     return 'Done'\n",
    "\n",
    "# task_dig = nidaqmx.Task()\n",
    "# task_dig.do_channels.add_do_chan('Dev5/port0/line0')\n",
    "\n",
    "# # task_dig.write(True,auto_start=True)\n",
    "# # time.sleep(0.01)\n",
    "# # task_dig.write(False,auto_start=True)\n",
    "\n",
    "# def daq_sqwave(n):\n",
    "#     for _ in range(n):\n",
    "#         task_dig.write(True,auto_start=True) ## 500 mV pk-pk\n",
    "#         time.sleep(0.05) ### Pulse width\n",
    "#         # task_write2.stop()\n",
    "#         # time.sleep(0.0001)\n",
    "\n",
    "\n",
    "#         task_dig.write(False,auto_start=True)\n",
    "#         # task_dig.stop()\n",
    "        \n",
    "#         # task_write0.stop()\n",
    "#         task_dig.stop()\n",
    "#         time.sleep(0.1)\n",
    "#     return 'Done'\n",
    "# daq_sqwave(10)\n",
    "# daq_sqwave(10)"
   ]
  },
  {
   "cell_type": "code",
   "execution_count": 2,
   "id": "c913edda-8736-44c6-a1d0-280320088e4c",
   "metadata": {},
   "outputs": [],
   "source": [
    "# def ard_sqwave(n):\n",
    "#     for _ in range(n):\n",
    "#         board.digital[13].write(1)\n",
    "#         time.sleep(0.005)\n",
    "#         board.digital[13].write(0)\n",
    "#         time.sleep(0.1)\n",
    "#     return 'Done'\n",
    "# # ard_sqwave(20)\n",
    "\n",
    "\n",
    "\n"
   ]
  },
  {
   "cell_type": "code",
   "execution_count": 2,
   "id": "85c37ce7-315b-4921-9b87-37628916dda3",
   "metadata": {},
   "outputs": [
    {
     "name": "stdout",
     "output_type": "stream",
     "text": [
      "  0        S/N 1044271\n",
      "  1        no device\n",
      "Using device #0\n",
      "\n",
      "Initializing the device...\n",
      "Found Model MultiHarp 150 4P Part no 930043 Version 1.0\n",
      "Device has 4 input channels.\n",
      "Resolution is 5.0ps\n"
     ]
    },
    {
     "data": {
      "text/plain": [
       "7630"
      ]
     },
     "execution_count": 2,
     "metadata": {},
     "output_type": "execute_result"
    }
   ],
   "source": [
    "# for i in range(0, numChannels.value):\n",
    "#     tryfunc(mhlib.MH_GetCountRate(ct.c_int(dev[0]), ct.c_int(i), byref(countRate)),\n",
    "#             \"GetCountRate\")\n",
    "#     print(\"Countrate[%1d]=%1d/s\" % (i, countRate.value))\n",
    "\n",
    "import time\n",
    "import ctypes as ct\n",
    "from ctypes import byref\n",
    "import os\n",
    "import sys\n",
    "\n",
    "LIB_VERSION = \"3.1\"\n",
    "MAXDEVNUM = 2\n",
    "MODE_HIST = 0\n",
    "MAXLENCODE = 6\n",
    "MAXINPCHAN = 64\n",
    "MAXHISTLEN = 65536\n",
    "FLAG_OVERFLOW = 0x0001\n",
    "\n",
    "# Measurement parameters, these are hardcoded since this is just a demo\n",
    "binning = 0 # you can change this\n",
    "offset = 0\n",
    "tacq = 1000 # Measurement time in millisec, you can change this\n",
    "syncDivider = 2 # you can change this \n",
    "\n",
    "syncTriggerEdge = 0 # you can change this, can be set to 0 or 1 \n",
    "syncTriggerLevel = -50 # you can change this (in mV) \n",
    "syncChannelOffset = -5000 # you can change this (in ps, like a cable delay)\n",
    "inputTriggerEdge = 0 # you can change this, can be set to 0 or 1  \n",
    "inputTriggerLevel = -50 # you can change this (in mV)\n",
    "inputChannelOffset = 0 # you can change this (in ps, like a cable delay)\n",
    "\n",
    "cmd = 0\n",
    "\n",
    "# Variables to store information read from DLLs\n",
    "counts = [(ct.c_uint * MAXHISTLEN)() for i in range(0, MAXINPCHAN)]\n",
    "dev = []\n",
    "libVersion = ct.create_string_buffer(b\"\", 8)\n",
    "hwSerial = ct.create_string_buffer(b\"\", 8)\n",
    "hwPartno = ct.create_string_buffer(b\"\", 8)\n",
    "hwVersion = ct.create_string_buffer(b\"\", 8)\n",
    "hwModel = ct.create_string_buffer(b\"\", 24)\n",
    "errorString = ct.create_string_buffer(b\"\", 40)\n",
    "numChannels = ct.c_int()\n",
    "# histLen = ct.c_int()\n",
    "resolution = ct.c_double()\n",
    "syncRate = ct.c_int()\n",
    "countRate = ct.c_int()\n",
    "flags = ct.c_int()\n",
    "warnings = ct.c_int()\n",
    "warningstext = ct.create_string_buffer(b\"\", 16384)\n",
    "\n",
    "if os.name == \"nt\":\n",
    "    mhlib = ct.WinDLL(\"mhlib64.dll\")\n",
    "else:\n",
    "    mhlib = ct.CDLL(\"libmh150.so\")\n",
    "\n",
    "def closeDevices():\n",
    "    for i in range(0, MAXDEVNUM):\n",
    "        mhlib.MH_CloseDevice(ct.c_int(i))\n",
    "    sys.exit(0)\n",
    "\n",
    "def tryfunc(retcode, funcName):\n",
    "    if retcode < 0:\n",
    "        mhlib.MH_GetErrorString(errorString, ct.c_int(retcode))\n",
    "        print(\"MH_%s error %d (%s). Aborted.\" % (funcName, retcode,\n",
    "              errorString.value.decode(\"utf-8\")))\n",
    "        closeDevices()\n",
    "        \n",
    "for i in range(0, MAXDEVNUM):\n",
    "    retcode = mhlib.MH_OpenDevice(ct.c_int(i), hwSerial)\n",
    "    if retcode == 0:\n",
    "        print(\"  %1d        S/N %s\" % (i, hwSerial.value.decode(\"utf-8\")))\n",
    "        dev.append(i)\n",
    "    else:\n",
    "        if retcode == -1: # MH_ERROR_DEVICE_OPEN_FAIL\n",
    "            print(\"  %1d        no device\" % i)\n",
    "        else:\n",
    "            mhlib.MH_GetErrorString(errorString, ct.c_int(retcode))\n",
    "            print(\"  %1d        %s\" % (i, errorString.value.decode(\"utf8\")))\n",
    "\n",
    "# In this demo we will use the first MultiHarp device we find, i.e. dev[0].\n",
    "# You can also use multiple devices in parallel.\n",
    "# You can also check for specific serial numbers, so that you always know \n",
    "# which physical device you are talking to.\n",
    "\n",
    "if len(dev) < 1:\n",
    "    print(\"No device available.\")\n",
    "    exit(0)\n",
    "print(\"Using device #%1d\" % dev[0])\n",
    "print(\"\\nInitializing the device...\")\n",
    "\n",
    "tryfunc(mhlib.MH_Initialize(ct.c_int(dev[0]), ct.c_int(MODE_HIST), ct.c_int(0)),\n",
    "        \"Initialize\")\n",
    "\n",
    "# Only for information\n",
    "tryfunc(mhlib.MH_GetHardwareInfo(dev[0], hwModel, hwPartno, hwVersion),\n",
    "        \"GetHardwareInfo\")\n",
    "print(\"Found Model %s Part no %s Version %s\" % (hwModel.value.decode(\"utf-8\"),\n",
    "      hwPartno.value.decode(\"utf-8\"), hwVersion.value.decode(\"utf-8\")))\n",
    "\n",
    "tryfunc(mhlib.MH_GetNumOfInputChannels(ct.c_int(dev[0]), byref(numChannels)),\n",
    "        \"GetNumOfInputChannels\")\n",
    "print(\"Device has %i input channels.\" % numChannels.value)\n",
    "\n",
    "tryfunc(mhlib.MH_SetSyncDiv(ct.c_int(dev[0]), ct.c_int(syncDivider)), \"SetSyncDiv\")\n",
    "\n",
    "tryfunc(\n",
    "    mhlib.MH_SetSyncEdgeTrg(ct.c_int(dev[0]), ct.c_int(syncTriggerLevel),\n",
    "                            ct.c_int(syncTriggerEdge)),\n",
    "    \"SetSyncEdgeTrg\"\n",
    "    )\n",
    "\n",
    "tryfunc(mhlib.MH_SetSyncChannelOffset(ct.c_int(dev[0]), ct.c_int(syncChannelOffset)),\n",
    "        \"SetSyncChannelOffset\")\n",
    "\n",
    "# we use the same input settings for all channels, you can change this\n",
    "for i in range(0, numChannels.value):\n",
    "    tryfunc(\n",
    "        mhlib.MH_SetInputEdgeTrg(ct.c_int(dev[0]), ct.c_int(i), ct.c_int(inputTriggerLevel),\n",
    "                                 ct.c_int(inputTriggerEdge)),\n",
    "        \"SetInputEdgeTrg\"\n",
    "    )\n",
    "\n",
    "    tryfunc(\n",
    "        mhlib.MH_SetInputChannelOffset(ct.c_int(dev[0]), ct.c_int(i),\n",
    "                                       ct.c_int(inputChannelOffset)),\n",
    "        \"SetInputChannelOffset\"\n",
    "    )\n",
    "\n",
    "# tryfunc(mhlib.MH_SetHistoLen(ct.c_int(dev[0]), ct.c_int(MAXLENCODE), byref(histLen)),\n",
    "#         \"SetHistoLen\")\n",
    "# print(\"Histogram length is %d\" % histLen.value)\n",
    "\n",
    "tryfunc(mhlib.MH_SetBinning(ct.c_int(dev[0]), ct.c_int(binning)), \"SetBinning\")\n",
    "tryfunc(mhlib.MH_SetOffset(ct.c_int(dev[0]), ct.c_int(offset)), \"SetOffset\")\n",
    "tryfunc(mhlib.MH_GetResolution(ct.c_int(dev[0]), byref(resolution)), \"GetResolution\")\n",
    "print(\"Resolution is %1.1lfps\" % resolution.value)\n",
    "\n",
    "# Note: after Init or SetSyncDiv you must allow >100 ms for valid  count rate readings\n",
    "time.sleep(0.2)\n",
    "\n",
    "\n",
    "\n",
    "\n",
    "def countrate(i):\n",
    "    tryfunc(mhlib.MH_GetCountRate(ct.c_int(dev[0]), ct.c_int(i), byref(countRate)),\n",
    "            \"GetCountRate\")\n",
    "    return countRate.value\n",
    "\n",
    "countrate(0)\n"
   ]
  },
  {
   "cell_type": "code",
   "execution_count": 3,
   "id": "37d8a695-6285-4488-b69d-a7d4be8fce34",
   "metadata": {},
   "outputs": [],
   "source": [
    "from AMC_python import AMC\n",
    "from pylab import meshgrid,cm,imshow,contour,clabel,colorbar,axis,title,show\n",
    "\n",
    "# import time\n",
    "\n",
    "IP = \"192.168.1.1\"\n",
    "\n",
    "# Setup connection to AMC\n",
    "amc = AMC.Device(IP)\n",
    "amc.connect()\n",
    "\n",
    "# Activate axis 1\n",
    "# Internally, axes are numbered 0 to 2\n",
    "axis0 = 0 # Axis 1\n",
    "amc.control.setControlOutput(axis0, True)\n",
    "\n",
    "# Activate axis 2\n",
    "axis1 = 1 # Axis 2\n",
    "amc.control.setControlOutput(axis1, True)\n",
    "\n",
    "axis2 = 2 # Axis 2\n",
    "amc.control.setControlOutput(axis2, True)\n",
    "\n",
    "\n",
    "\n",
    "from IPython.display import clear_output\n",
    "# y_move = 10\n",
    "# x_move = 19\n",
    "### RASTER SCAN FUNCTION: Run this before next kernel\n",
    "# cbm = CountBetweenMarkers(tt, SPD_CH, PIXEL_START_CH, PIXEL_STOP_CH, n_pixels)\n",
    "\n",
    "def raster_scan(x_move,y_move,x_step,y_step):\n",
    "    # count_data = cbm.getData()\n",
    "    \n",
    "    # x_step = 1\n",
    "    # y_step = 50\n",
    "    pos_xy = []\n",
    "    counts_xy = []\n",
    "    counts = np.zeros((y_move,x_move+1))\n",
    "    # img = np.reshape(counts, (ny_pix, nx_pix))\n",
    "    # img[1::2,:] = np.fliplr(img[1::2,:])\n",
    "    \n",
    "    # clear_output(wait=True)\n",
    "    # pos_xy = [(0,0)]*(y_move*(x_move+1))\n",
    "    # plt.plot(*zip(*pos_xy),'g.')\n",
    "    # plt.show()\n",
    "    # j = 0\n",
    "    # pos_xy = [(amc.move.getPosition(axis0),amc.move.getPosition(axis1))]\n",
    "    amc.control.setControlAmplitude(axis1,24000) #22500 #35000 #25000 \n",
    "    m = 0\n",
    "    for i in range(y_move):\n",
    "        x = i\n",
    "        amc.move.setNSteps(axis1, False, y_step) ## Moves Up == False\n",
    "        # amc.move.setNSteps(axis1, True, y_step)  ## Moves Down == True\n",
    "        # cbm.getData()\n",
    "        # ard_sqwave(1) ## DAQ trigger\n",
    "        time.sleep(0.2) ## stop time in seconds\n",
    "        pos_xy.append((amc.move.getPosition(axis0),amc.move.getPosition(axis1)))\n",
    "        counts_xy.append((amc.move.getPosition(axis0),amc.move.getPosition(axis1),countrate(0)))\n",
    "        \n",
    "        clear_output(wait=True)\n",
    "        if x%2 == 1:\n",
    "            counts[i,x_move] = countrate(0)\n",
    "        else:\n",
    "            counts[i,0] = countrate(0)\n",
    "        plt.imshow(counts)\n",
    "        # cbar = colorbar(img)\n",
    "        \n",
    "        # counts[i,m] = countrate(0)\n",
    "        # plt.plot(*zip(*pos_xy),'.r')\n",
    "        plt.show()\n",
    "        \n",
    "        # pos_xy[m] = (amc.move.getPosition(axis0),amc.move.getPosition(axis1))\n",
    "        # print(m)\n",
    "        # print((amc.move.getPosition(axis0),amc.move.getPosition(axis1)))\n",
    "        # print(count_data)\n",
    "        # m = m+1\n",
    "        for j in range(x_move):\n",
    "            # amc.move.setNSteps(axis0, x%2, x_step)\n",
    "            if x%2 == 1:\n",
    "                ### BACKWARD\n",
    "                amc.control.setControlAmplitude(axis0,34301) ## Changes amplitude in back (x avis) #22600 #25000 34300\n",
    "                # amc.control.setControlFrequency(axis0,999000)\n",
    "            else:\n",
    "                ### FORWARD\n",
    "                amc.control.setControlAmplitude(axis0,42301)  ## Changes amplitude in fwd (x avis) #27301 #29501  42301\n",
    "                # amc.control.setControlFrequency(axis0,999000)\n",
    "                \n",
    "            amc.move.setNSteps(axis0, x%2, x_step)  ## Moves in x\n",
    "            # pos_xy[m] = (amc.move.getPosition(axis0),amc.move.getPosition(axis1))\n",
    "            # print(m)\n",
    "            # ard_sqwave(1) ## DAQ trigger\n",
    "            time.sleep(0.2) ## stop time in seconds\n",
    "            pos_xy.append((amc.move.getPosition(axis0),amc.move.getPosition(axis1)))\n",
    "            counts_xy.append((amc.move.getPosition(axis0),amc.move.getPosition(axis1),countrate(0)))\n",
    "\n",
    "            clear_output(wait=True)\n",
    "            if x%2 == 0:\n",
    "                counts[i,j+1] = countrate(0)\n",
    "            else:\n",
    "                counts[i,x_move-(j+1)] = countrate(0)\n",
    "            \n",
    "            # counts[1::2,:] = np.fliplr(counts[1::2,:])\n",
    "            # if x%2 == 1:\n",
    "            #     counts[i,y_move-(j+1)] = countrate(0)\n",
    "            # else:\n",
    "            #     counts[i,j+1] = countrate(0)\n",
    "            plt.imshow(counts)\n",
    "            # cbar = colorbar(img)\n",
    "            \n",
    "            # plt.plot(*zip(*pos_xy),'.r')\n",
    "            plt.show()\n",
    "            # print(j,i,amc.control.getControlAmplitude(axis0),(amc.move.getPosition(axis0),amc.move.getPosition(axis1)))\n",
    "            # pos_xy.append((amc.move.getPosition(axis0),amc.move.getPosition(axis1),cbm.getData()[m]))\n",
    "            # print(j,i,amc.control.getControlAmplitude(axis0),(amc.move.getPosition(axis0),amc.move.getPosition(axis1)),cbm.getData()[m])\n",
    "            # # print(count_data)\n",
    "            \n",
    "        # m = m+1\n",
    "           \n",
    "            # pos_x.append(amc.move.getPosition(axis0))\n",
    "        # print('Pos_x: ',amc.move.getPosition(axis0))\n",
    "        # pos_xy.append((amc.move.getPosition(axis0),amc.move.getPosition(axis1)))\n",
    "        # amc.move.setNSteps(axis1, False, y_step)\n",
    "        # pos_xy.append((amc.move.getPosition(axis0),amc.move.getPosition(axis1)))\n",
    "        # print(j,i,(amc.move.getPosition(axis0),amc.move.getPosition(axis1)))\n",
    "        # # daq_sqwave(1)\n",
    "        # time.sleep(0.5)\n",
    "    # return print('Scan Over')\n",
    "    # cbm.stop()\n",
    "    # clear_output\n",
    "    img = plt.imshow(counts)\n",
    "    cbar = plt.colorbar(img)\n",
    "    plt.show()\n",
    "    print(pos_xy[0])\n",
    "    return counts_xy"
   ]
  },
  {
   "cell_type": "code",
   "execution_count": 112,
   "id": "5a6cde7b-283c-4dec-8ddf-5394118e21ef",
   "metadata": {},
   "outputs": [
    {
     "data": {
      "image/png": "[encoded data removed]",
      "text/plain": [
       "<Figure size 432x288 with 1 Axes>"
      ]
     },
     "metadata": {
      "needs_background": "light"
     },
     "output_type": "display_data"
    },
    {
     "data": {
      "image/png": "[encoded data removed]",
      "text/plain": [
       "<Figure size 432x288 with 2 Axes>"
      ]
     },
     "metadata": {
      "needs_background": "light"
     },
     "output_type": "display_data"
    },
    {
     "name": "stdout",
     "output_type": "stream",
     "text": [
      "(-8719820.481, -2534183.426)\n",
      "Your file is saved as: D:\\Data\\January-2023\\20230124\\MoSe2_scan9_MH_XY.csv\n"
     ]
    }
   ],
   "source": [
    "x_step = 1 #\n",
    "y_step = 1\n",
    "y_move = int(input(\"No. of steps in y:\"))\n",
    "x_move = int(input(\"No. of steps in x:\"))\n",
    "save = input(\"Do you want to save the xy data for this scan (y or n)?\")\n",
    "from datetime import datetime\n",
    "date = datetime.today().strftime('%Y%m%d') #'20221207'\n",
    "folder_name = datetime.today().strftime('%B-%Y') #'20221207'\n",
    "if save == 'y':\n",
    "    sample = input(\"Sample name (without space):\")\n",
    "    scan_num = input(\"Scan number: \")\n",
    "    \n",
    "# print(save.type)\n",
    "\n",
    "# while cbm.isRunning():\n",
    "#     clear_output(wait=True)\n",
    "    \n",
    "#     # time.sleep(10)\n",
    "#     img = cr.getData()\n",
    "#     plt.plot(range(img.shape[1]),img[0][range(img.shape[1])])\n",
    "#     plt.show()\n",
    "# clear_output(wait=True)\n",
    "# plt.plot(*zip(*p),'g.')\n",
    "# plt.show()\n",
    "p = raster_scan(x_move,y_move,x_step,y_step)\n",
    "# print(p[0])\n",
    "if save == 'y':\n",
    "    import pandas as pd\n",
    "    df = pd.DataFrame(p, columns = ['X_data','Y_data','Intensity'])\n",
    "\n",
    "    # # path = 'C:\\\\Users\\\\Praveen\\\\Desktop\\\\NVspectrum\\\\September-2022\\\\28_10_2022'\n",
    "    path = 'D:\\\\Data\\\\'+folder_name+'\\\\'+date\n",
    "    isExist = os.path.exists(path)\n",
    "    if not isExist:\n",
    "        os.makedirs(path)\n",
    "\n",
    "    df.to_csv(path+'\\\\'+sample+'_scan'+str(scan_num)+'_MH_XY.csv', index=False)\n",
    "    xy = [(i[0],i[1]) for i in p]\n",
    "    print('Your file is saved as:',path+'\\\\'+sample+'_scan'+str(scan_num)+'_MH_XY.csv')    \n",
    "\n",
    "# l1 = [0]*(y_move*y_move)\n",
    "# l2 = l1\n",
    "# len(list(zip(l1,l2)))"
   ]
  },
  {
   "cell_type": "code",
   "execution_count": 113,
   "id": "6161ca02-ef2e-4a5f-956a-fc10b3f9adab",
   "metadata": {},
   "outputs": [
    {
     "name": "stdout",
     "output_type": "stream",
     "text": [
      "Your file is saved as: D:\\Data\\January-2023\\20230124\\MoSe2_scan9_MH_XY.csv\n"
     ]
    },
    {
     "data": {
      "image/png": "[encoded data removed]",
      "text/plain": [
       "<Figure size 432x288 with 1 Axes>"
      ]
     },
     "metadata": {
      "needs_background": "light"
     },
     "output_type": "display_data"
    },
    {
     "data": {
      "image/png": "[encoded data removed]",
      "text/plain": [
       "<Figure size 432x288 with 2 Axes>"
      ]
     },
     "metadata": {
      "needs_background": "light"
     },
     "output_type": "display_data"
    }
   ],
   "source": [
    "import pandas as pd\n",
    "df = pd.DataFrame(p, columns = ['X_data','Y_data','Intensity'])\n",
    "\n",
    "# # path = 'C:\\\\Users\\\\Praveen\\\\Desktop\\\\NVspectrum\\\\September-2022\\\\28_10_2022'\n",
    "path = 'D:\\\\Data\\\\'+folder_name+'\\\\'+date\n",
    "isExist = os.path.exists(path)\n",
    "if not isExist:\n",
    "    os.makedirs(path)\n",
    "\n",
    "df.to_csv(path+'\\\\'+sample+'_scan'+str(scan_num)+'_MH_XY.csv', index=False)\n",
    "xy = [(i[0],i[1]) for i in p]\n",
    "print('Your file is saved as:',path+'\\\\'+sample+'_scan'+str(scan_num)+'_MH_XY.csv')    \n",
    "\n",
    "dataxy = np.genfromtxt(path+\"\\\\\"+sample+\"_scan\"+str(scan_num)+\"_MH_XY.csv\",delimiter=',').T\n",
    "\n",
    "datax = [(i)/1000 for i in dataxy[0][1:]] #-dataxy[0][1]\n",
    "datay = [(i)/1000 for i in dataxy[1][1:]] #-dataxy[1][1]\n",
    "counts = [i for i in dataxy[2][1:]] #-dataxy[1][1]\n",
    "\n",
    "# x = len(datax)-len(counts_sum)\n",
    "# for _ in range(x):\n",
    "#     counts_sum.append(0)\n",
    "\n",
    "import matplotlib.pyplot as plt\n",
    "plt.plot(datax,datay,'.')\n",
    "plt.show()\n",
    "img = plt.tricontourf(datax,datay,counts)\n",
    "cbar = plt.colorbar(img)\n",
    "plt.savefig(path+\"\\\\test\"+str(scan_num)+\"_\"+sample+\"_MH.png\",format='png')\n"
   ]
  },
  {
   "cell_type": "code",
   "execution_count": 4,
   "id": "6353f87b-23b8-4866-89c0-b834d75c0ae7",
   "metadata": {},
   "outputs": [
    {
     "ename": "SystemExit",
     "evalue": "0",
     "output_type": "error",
     "traceback": [
      "An exception has occurred, use %tb to see the full traceback.\n",
      "\u001b[1;31mSystemExit\u001b[0m\u001b[1;31m:\u001b[0m 0\n"
     ]
    },
    {
     "name": "stderr",
     "output_type": "stream",
     "text": [
      "C:\\Users\\Praveen\\anaconda3\\lib\\site-packages\\IPython\\core\\interactiveshell.py:3377: UserWarning: To exit: use 'exit', 'quit', or Ctrl-D.\n",
      "  warn(\"To exit: use 'exit', 'quit', or Ctrl-D.\", stacklevel=1)\n"
     ]
    }
   ],
   "source": [
    "# board.exit()\n",
    "# amc.close()\n",
    "closeDevices()"
   ]
  },
  {
   "cell_type": "code",
   "execution_count": 61,
   "id": "7e10e714-cf58-4272-b367-0728084050fc",
   "metadata": {},
   "outputs": [
    {
     "data": {
      "text/plain": [
       "[<matplotlib.lines.Line2D at 0x1d2b10ba7f0>]"
      ]
     },
     "execution_count": 61,
     "metadata": {},
     "output_type": "execute_result"
    },
    {
     "data": {
      "image/png": "[encoded data removed]",
      "text/plain": [
       "<Figure size 432x288 with 1 Axes>"
      ]
     },
     "metadata": {
      "needs_background": "light"
     },
     "output_type": "display_data"
    }
   ],
   "source": [
    "p[0][0]-p[1][0]\n",
    "p[4][0]-p[5][0]\n",
    "plt.plot(*zip(*[(p[i][0],p[i][1]) for i in range(len(p))]),'.')\n",
    "# p"
   ]
  },
  {
   "cell_type": "code",
   "execution_count": 44,
   "id": "e662a133-9b4e-4521-b59f-790f8866f9c4",
   "metadata": {},
   "outputs": [
    {
     "name": "stdout",
     "output_type": "stream",
     "text": [
      "Your file is saved as: D:\\Data\\December-2022\\20221208\\Dye_scan1_MH_XY.csv\n"
     ]
    }
   ],
   "source": [
    "folder_name = datetime.today().strftime('%B-%Y') #'20221207'\n",
    "# file_name\n",
    "path = 'D:\\\\Data\\\\'+folder_name+'\\\\'+date\n"
   ]
  },
  {
   "cell_type": "code",
   "execution_count": 38,
   "id": "0568fe8e-1111-4ee1-8d5f-e8815938301f",
   "metadata": {},
   "outputs": [
    {
     "data": {
      "text/plain": [
       "(-2920591.279, -763335.997)"
      ]
     },
     "execution_count": 38,
     "metadata": {},
     "output_type": "execute_result"
    }
   ],
   "source": [
    "# print(p[1][0]-p[2][0],p[13][0]-p[14][0],p[1][1]-p[13][1])\n",
    "p[0]"
   ]
  },
  {
   "cell_type": "code",
   "execution_count": 24,
   "id": "47a49d19-a0b5-4016-8e77-23d2ff1f5c74",
   "metadata": {},
   "outputs": [],
   "source": [
    "board.exit()"
   ]
  },
  {
   "cell_type": "code",
   "execution_count": 136,
   "id": "f9283474-823a-49e6-b21b-b3f544579013",
   "metadata": {},
   "outputs": [],
   "source": [
    "###########################  END  ########################################"
   ]
  },
  {
   "cell_type": "code",
   "execution_count": 134,
   "id": "5eb3c321-cc41-4a9e-8150-a1cc8e97aea7",
   "metadata": {},
   "outputs": [],
   "source": [
    "## Return to XY ref positions\n",
    "ref_posx = -2920591 #-589350 #nm\n",
    "amc.move.setControlTargetPosition(axis0, ref_posx)\n",
    "amc.control.setControlMove(axis0, True)\n"
   ]
  },
  {
   "cell_type": "code",
   "execution_count": 39,
   "id": "40bdea95-7756-444f-add5-fb86e4f79003",
   "metadata": {},
   "outputs": [],
   "source": [
    "# ref_posy = 368485 #nm\n",
    "# amc.move.setControlTargetPosition(axis1, ref_posy)\n",
    "# amc.control.setControlMove(axis1, False)\n",
    "for i in range(y_move):    \n",
    "    amc.move.setNSteps(axis1, True, y_step)"
   ]
  },
  {
   "cell_type": "code",
   "execution_count": 40,
   "id": "be4637c9-c5ec-4343-8dff-30612bb14e12",
   "metadata": {},
   "outputs": [
    {
     "name": "stdout",
     "output_type": "stream",
     "text": [
      "-196.77700000000186 237.35899999993853 205.44099999999162\n"
     ]
    }
   ],
   "source": [
    "# p[0][1]-p[1][1]\n",
    "\n",
    "# p\n",
    "# df = pd.DataFrame(p, columns = ['X_data','Y_data'])\n",
    "# scan_num = 5\n",
    "\n",
    "#     # # path = 'C:\\\\Users\\\\Praveen\\\\Desktop\\\\NVspectrum\\\\September-2022\\\\28_10_2022'\n",
    "# path = 'D:\\\\Data\\\\November-2022\\\\'+date\n",
    "# df.to_csv(path+'\\\\'+sample+'_scan'+str(scan_num)+'_MH_XY.csv', index=False)"
   ]
  },
  {
   "cell_type": "code",
   "execution_count": 26,
   "id": "bde0fe47-3701-4fab-93a4-53b87c04f154",
   "metadata": {},
   "outputs": [],
   "source": [
    "x_move = 9\n",
    "y_move = 10\n",
    "l1 = [(0,0)]*(y_move*(x_move+1))\n",
    "# len(l1)\n",
    "l1[0] = (1,2)\n",
    "\n",
    "# print(l1)\n"
   ]
  },
  {
   "cell_type": "code",
   "execution_count": null,
   "id": "2b419cc8-8d95-4883-a694-eb7051eb9874",
   "metadata": {},
   "outputs": [],
   "source": []
  }
 ],
 "metadata": {
  "kernelspec": {
   "display_name": "Python 3 (ipykernel)",
   "language": "python",
   "name": "python3"
  },
  "language_info": {
   "codemirror_mode": {
    "name": "ipython",
    "version": 3
   },
   "file_extension": ".py",
   "mimetype": "text/x-python",
   "name": "python",
   "nbconvert_exporter": "python",
   "pygments_lexer": "ipython3",
   "version": "3.9.12"
  }
 },
 "nbformat": 4,
 "nbformat_minor": 5
}
