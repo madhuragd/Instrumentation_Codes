{
 "cells": [
  {
   "cell_type": "code",
   "execution_count": 1,
   "id": "df85a73c-fd4c-4006-9f25-7078e7db3dd6",
   "metadata": {},
   "outputs": [],
   "source": [
    "import numpy as np\n",
    "import matplotlib.pyplot as plt\n",
    "import pandas as pd\n",
    "import os"
   ]
  },
  {
   "cell_type": "code",
   "execution_count": 344,
   "id": "1667d6d4-8397-44ed-b86a-3f0ebaf5d1e1",
   "metadata": {},
   "outputs": [],
   "source": [
    "fileIndex = [67]\n",
    "path = os.getcwd()#+'\\\\test_scan'\n",
    "\n",
    "dataFile = [path +'\\\\test_scan_v'+str(i)+'.dat' for i in fileIndex]\n",
    "\n",
    "data = [np.genfromtxt(dataFile[i], delimiter ='\\t') for i in range(len(dataFile))]\n",
    "\n",
    "\n",
    "# data = [np.loadtxt(d, usecols=(4, 5), unpack=True) for d in dataFile]"
   ]
  },
  {
   "cell_type": "code",
   "execution_count": 345,
   "id": "af73f5b3-89db-4d25-905f-875fa530372c",
   "metadata": {},
   "outputs": [],
   "source": [
    "# len(data[0])\n",
    "all_time = [i[2:,4] for i in data]\n",
    "all_sync = [i[2:,5] for i in data]\n",
    "all_intensity = [i[2:,9].tolist() for i in data]\n",
    "\n",
    "# print(all_time,all_sync)"
   ]
  },
  {
   "cell_type": "code",
   "execution_count": 347,
   "id": "c1ea33c4-7ffe-482b-b3ff-27c17928f7e0",
   "metadata": {},
   "outputs": [
    {
     "data": {
      "text/plain": [
       "<matplotlib.legend.Legend at 0x1560675f370>"
      ]
     },
     "execution_count": 347,
     "metadata": {},
     "output_type": "execute_result"
    },
    {
     "data": {
      "image/png": "[encoded data removed]",
      "text/plain": [
       "<Figure size 432x288 with 1 Axes>"
      ]
     },
     "metadata": {
      "needs_background": "light"
     },
     "output_type": "display_data"
    }
   ],
   "source": [
    "# for i in range(len(all_time)):\n",
    "plt.plot(all_time[0],all_sync[0],label='test_scan_v'+str(fileIndex[0]))\n",
    "plt.legend()\n",
    "\n",
    "# plt.xlim(500,1000)"
   ]
  },
  {
   "cell_type": "code",
   "execution_count": 348,
   "id": "eca3c7d5-83e4-4fd6-9175-305dc7789eeb",
   "metadata": {},
   "outputs": [
    {
     "name": "stdout",
     "output_type": "stream",
     "text": [
      "[572]\n"
     ]
    }
   ],
   "source": [
    "# ind = data.index(1)\n",
    "\n",
    "ind_list = [[i for i in range(len(j)) if j[i]==1] for j in all_sync]\n",
    "\n",
    "ind_diff = [i[2]-i[1] for i in ind_list]\n",
    "\n",
    "print(ind_diff)\n",
    "\n"
   ]
  },
  {
   "cell_type": "code",
   "execution_count": 349,
   "id": "68b1186e-d053-4d24-ab3d-c1ef535631b2",
   "metadata": {},
   "outputs": [
    {
     "data": {
      "text/plain": [
       "129"
      ]
     },
     "execution_count": 349,
     "metadata": {},
     "output_type": "execute_result"
    }
   ],
   "source": [
    "len(ind_list[0])\n"
   ]
  },
  {
   "cell_type": "code",
   "execution_count": 350,
   "id": "8e15b361-e2b3-4199-9585-e6b976e3064d",
   "metadata": {},
   "outputs": [],
   "source": [
    "# data2[ind_list[0]:int(ind_list[1]-1)]\n",
    "# dat1 = [sum(data2[ind_list[0]:int(ind_list[1]-1)]) for i in range(len(ind_list))]\n",
    "# data[ind_list[1]-1]\n",
    "# dat1 = sum(data2[ind_list[0]:int(ind_list[1]-1)])\n",
    "# dat2 = sum(data2[ind_list[1]:int(ind_list[2]-1)])\n",
    "# dat3 = sum(data2[ind_list[2]:int(ind_list[3]-1)])\n",
    "\n",
    "# dat4 = sum(data2[ind_list[3]:int(ind_list[4]-1)])\n",
    "\n",
    "m = 0\n",
    "intensity_data = [sum(all_intensity[m][ind_list[m][i]:ind_list[m][i+1]]) for i in range(len(ind_list[m])-1)]\n",
    "# all_intensity[0][ind_list[0][0]:ind_list[0][1]]\n",
    "\n",
    "# dat = [dat1,dat2,dat3]\n",
    "intensity_data \n",
    "ind_last = ind_list[m][len(ind_list[m])-1]\n",
    "# len(ind_list[m])\n",
    "# ind_list[m][3]\n",
    "intensity_data.append(sum(all_intensity[m][ind_last:int(ind_last+ind_diff[m])]))\n",
    "\n",
    "# plt.imshow(intensity_data)"
   ]
  },
  {
   "cell_type": "code",
   "execution_count": 179,
   "id": "1a3edc7c-e2c6-4ff2-8fe7-8084229d2836",
   "metadata": {},
   "outputs": [],
   "source": [
    "# ind_list2 = [int(i+ind_diff[0]/2) for i in ind_list[0]]"
   ]
  },
  {
   "cell_type": "code",
   "execution_count": 192,
   "id": "def7675e-4c39-4039-87a3-bc9086ed78c8",
   "metadata": {},
   "outputs": [],
   "source": [
    "# # print(ind_list[0][2:5],ind_list2[2:5])\n",
    "# ind_up = ind_list[0]+ind_list2\n",
    "\n",
    "# ind_up.sort()\n",
    "# # ind_up"
   ]
  },
  {
   "cell_type": "code",
   "execution_count": 208,
   "id": "ec36c12f-a524-447f-bf48-4d9a4c46fac3",
   "metadata": {},
   "outputs": [],
   "source": [
    "# m = 0\n",
    "# # intensity_data = [sum(all_intensity[m][ind_list[m][i]:ind_list[m][i+1]]) for i in range(len(ind_list[m])-1)]\n",
    "# intensity_data = [sum(all_intensity[m][ind_up[i]:ind_up[i+1]]) for i in range(len(ind_up)-1)]\n",
    "# # intensity_data2 = [sum(all_intensity[m][int(ind_list[m][i]+ind_diff[m]/2):ind_list[m][i+1]]) for i in range(len(ind_list[m])-1)]\n",
    "# # all_intensity[0][ind_list[0][0]:ind_list[0][1]]\n",
    "# # for i in range(len(ind_list[m])-1):\n",
    "# #     intensity_data.append(sum(all_intensity[m][int(ind_list[m][i]+ind_diff[m]/2):int(ind_last+ind_diff[m])]))\n",
    "\n",
    "# # dat = [dat1,dat2,dat3]\n",
    "# # intensity_data = intensity_data1 + intensity_data2\n",
    "# ind_last = ind_list[m][len(ind_list[m])-1]\n",
    "# # len(ind_list[m])\n",
    "# # ind_list[m][3]\n",
    "# intensity_data.append(sum(all_intensity[m][ind_last:int(ind_last+ind_diff[m])]))\n",
    "\n",
    "# # plt.imshow(intensity_data)"
   ]
  },
  {
   "cell_type": "code",
   "execution_count": 351,
   "id": "7ad25eab-a2fa-4e28-a5ea-39671debda66",
   "metadata": {},
   "outputs": [
    {
     "data": {
      "text/plain": [
       "129"
      ]
     },
     "execution_count": 351,
     "metadata": {},
     "output_type": "execute_result"
    }
   ],
   "source": [
    "\n",
    "\n",
    "len(intensity_data)"
   ]
  },
  {
   "cell_type": "code",
   "execution_count": 227,
   "id": "906e8ed9-4d09-402a-9b2e-beacd6cbb7da",
   "metadata": {},
   "outputs": [],
   "source": [
    "# m = 0\n",
    "# # intensity_data = [sum(all_intensity[m][ind_list[m][i]:ind_list[m][i+1]]) for i in range(len(ind_list[m])-1)]\n",
    "# intensity_data = [sum(all_intensity[m][ind_list[m][i]:int(ind_list[m][i]+ind_diff[m]/2)]) for i in range(len(ind_list[m])-1)]\n",
    "# # intensity_data2 = [sum(all_intensity[m][int(ind_list[m][i]+ind_diff[m]/2):ind_list[m][i+1]]) for i in range(len(ind_list[m])-1)]\n",
    "# # all_intensity[0][ind_list[0][0]:ind_list[0][1]]\n",
    "# # for i in range(len(ind_list[m])-1):\n",
    "# #     intensity_data.append(sum(all_intensity[m][int(ind_list[m][i]+ind_diff[m]/2):int(ind_last+ind_diff[m])]))\n",
    "\n",
    "# # dat = [dat1,dat2,dat3]\n",
    "# # intensity_data = intensity_data1 + intensity_data2\n",
    "# ind_last = ind_list[m][len(ind_list[m])-1]\n",
    "# # len(ind_list[m])\n",
    "# # ind_list[m][3]\n",
    "# intensity_data.append(sum(all_intensity[m][ind_last:int(ind_last+ind_diff[m])]))\n",
    "\n",
    "# # plt.imshow(intensity_data)"
   ]
  },
  {
   "cell_type": "code",
   "execution_count": 352,
   "id": "d2882361-5e2c-49b2-b0da-f167814c1bff",
   "metadata": {},
   "outputs": [
    {
     "data": {
      "text/plain": [
       "[102544.0,\n",
       " 102861.0,\n",
       " 102954.0,\n",
       " 102168.0,\n",
       " 103304.0,\n",
       " 205002.0,\n",
       " 96250.0,\n",
       " 98149.0,\n",
       " 97579.0,\n",
       " 95311.0,\n",
       " 98800.0,\n",
       " 94323.0,\n",
       " 100247.0,\n",
       " 102562.0,\n",
       " 101203.0,\n",
       " 99193.0,\n",
       " 93909.0,\n",
       " 100087.0,\n",
       " 99639.0,\n",
       " 91025.0,\n",
       " 99125.0,\n",
       " 95991.0,\n",
       " 93927.0,\n",
       " 93562.0,\n",
       " 91090.0,\n",
       " 93141.0,\n",
       " 92890.0,\n",
       " 92814.0,\n",
       " 96692.0,\n",
       " 88337.0,\n",
       " 91837.0,\n",
       " 92846.0,\n",
       " 91571.0,\n",
       " 91950.0,\n",
       " 95109.0,\n",
       " 93943.0,\n",
       " 95335.0,\n",
       " 91882.0,\n",
       " 93795.0,\n",
       " 91480.0,\n",
       " 92345.0,\n",
       " 91634.0,\n",
       " 87054.0,\n",
       " 90531.0,\n",
       " 88140.0,\n",
       " 90838.0,\n",
       " 90858.0,\n",
       " 87641.0,\n",
       " 91160.0,\n",
       " 83973.0,\n",
       " 91038.0,\n",
       " 89450.0,\n",
       " 86912.0,\n",
       " 86431.0,\n",
       " 85383.0,\n",
       " 88806.0,\n",
       " 90101.0,\n",
       " 86960.0,\n",
       " 90849.0,\n",
       " 84804.0,\n",
       " 84800.0,\n",
       " 87824.0,\n",
       " 83709.0,\n",
       " 86041.0,\n",
       " 87714.0,\n",
       " 85146.0,\n",
       " 88688.0,\n",
       " 85621.0,\n",
       " 84845.0,\n",
       " 82089.0,\n",
       " 83497.0,\n",
       " 87042.0,\n",
       " 88944.0,\n",
       " 85049.0,\n",
       " 88371.0,\n",
       " 83919.0,\n",
       " 85765.0,\n",
       " 88432.0,\n",
       " 83649.0,\n",
       " 80584.0,\n",
       " 82819.0,\n",
       " 81464.0,\n",
       " 84413.0,\n",
       " 85655.0,\n",
       " 85505.0,\n",
       " 85519.0,\n",
       " 79733.0,\n",
       " 83169.0,\n",
       " 82462.0,\n",
       " 75939.0,\n",
       " 79880.0,\n",
       " 80706.0,\n",
       " 84377.0,\n",
       " 82417.0,\n",
       " 82793.0,\n",
       " 86107.0,\n",
       " 79873.0,\n",
       " 80703.0,\n",
       " 82146.0,\n",
       " 78924.0,\n",
       " 81774.0,\n",
       " 80612.0,\n",
       " 86600.0,\n",
       " 85326.0,\n",
       " 87095.0,\n",
       " 80337.0,\n",
       " 79024.0,\n",
       " 79767.0,\n",
       " 81079.0,\n",
       " 80021.0,\n",
       " 81100.0,\n",
       " 78747.0,\n",
       " 78096.0,\n",
       " 81224.0,\n",
       " 81389.0,\n",
       " 85007.0,\n",
       " 81259.0,\n",
       " 80877.0,\n",
       " 79067.0,\n",
       " 76909.0,\n",
       " 82457.0,\n",
       " 82591.0,\n",
       " 82383.0,\n",
       " 80628.0,\n",
       " 76759.0,\n",
       " 83213.0,\n",
       " 80648.0,\n",
       " 82709.0,\n",
       " 84815.0]"
      ]
     },
     "execution_count": 352,
     "metadata": {},
     "output_type": "execute_result"
    }
   ],
   "source": [
    "intensity_data"
   ]
  },
  {
   "cell_type": "code",
   "execution_count": 353,
   "id": "880e3087-7fb3-49e3-ae91-f4d409d6431c",
   "metadata": {},
   "outputs": [
    {
     "name": "stdout",
     "output_type": "stream",
     "text": [
      "129\n"
     ]
    }
   ],
   "source": [
    "print(len(intensity_data))\n",
    "# ind_diff[0]/2\n",
    "# print(intensity_data)\n",
    "# 25*50"
   ]
  },
  {
   "cell_type": "code",
   "execution_count": 196,
   "id": "0ab101ac-3978-4711-aee7-6bb9c52febb4",
   "metadata": {},
   "outputs": [],
   "source": [
    "# len(intensity_data)\n",
    "# mat_intensity = np.array([intensity_data[i]])\n",
    "\n",
    "# dimX = int(np.sqrt())\n",
    "dimX = 50\n",
    "dimY = 50\n",
    "m1 = intensity_data[:2455]\n",
    "\n",
    "for i in range(45):\n",
    "     m1.append(m1[2454])\n",
    "m=np.reshape(m1,(dimX,dimY))#.transpose()\n",
    "\n",
    "\n",
    "# m2 = np.reshape(intensity_data[:90],(10,9)) # (len(y)+1,len(x))) #2,3\n",
    "\n",
    "# im = plt.imshow(m)\n",
    "\n",
    "# cbar = plt.colorbar(im)\n",
    "\n",
    "# print(intensity_data,m)\n"
   ]
  },
  {
   "cell_type": "code",
   "execution_count": null,
   "id": "d5fd0978-b457-4d09-a33b-6f349e4ff29a",
   "metadata": {},
   "outputs": [],
   "source": []
  },
  {
   "cell_type": "code",
   "execution_count": 185,
   "id": "08b6dadb-ace5-4b88-ba09-84667fb32953",
   "metadata": {},
   "outputs": [
    {
     "data": {
      "text/plain": [
       "0"
      ]
     },
     "execution_count": 185,
     "metadata": {},
     "output_type": "execute_result"
    }
   ],
   "source": [
    "m1[2499]"
   ]
  },
  {
   "cell_type": "code",
   "execution_count": 83,
   "id": "9783f7bd-1dd4-446c-95d7-b583670fa5f1",
   "metadata": {},
   "outputs": [],
   "source": [
    "# m3 = m[1].tolist()\n",
    "# m3.reverse()\n",
    "# print(m[1],m3)\n",
    "\n",
    "# m[1] = m3\n",
    "\n",
    "# print(m)"
   ]
  },
  {
   "cell_type": "code",
   "execution_count": 186,
   "id": "d17a5551-d4e4-48b3-9ba0-bb361868c841",
   "metadata": {},
   "outputs": [
    {
     "name": "stdout",
     "output_type": "stream",
     "text": [
      "1\n",
      "3\n",
      "5\n",
      "7\n",
      "9\n",
      "11\n",
      "13\n",
      "15\n",
      "17\n",
      "19\n",
      "21\n",
      "23\n",
      "25\n",
      "27\n",
      "29\n",
      "31\n",
      "33\n",
      "35\n",
      "37\n",
      "39\n",
      "41\n",
      "43\n",
      "45\n",
      "47\n",
      "49\n"
     ]
    }
   ],
   "source": [
    "for i in range(1,dimX+1,2):\n",
    "    print(i)\n",
    "    m3 = m[i].tolist()\n",
    "    m3.reverse()\n",
    "    # print(m[i],m3)\n",
    "\n",
    "    m[i] = m3"
   ]
  },
  {
   "cell_type": "code",
   "execution_count": 197,
   "id": "60edf99a-11aa-47d3-9423-5d139575c306",
   "metadata": {},
   "outputs": [
    {
     "data": {
      "image/png": "[encoded data removed]",
      "text/plain": [
       "<Figure size 432x288 with 2 Axes>"
      ]
     },
     "metadata": {
      "needs_background": "light"
     },
     "output_type": "display_data"
    }
   ],
   "source": [
    "im = plt.imshow(m)#, vmin=50000, vmax=200000)\n",
    "\n",
    "cbar = plt.colorbar(im)"
   ]
  },
  {
   "cell_type": "code",
   "execution_count": 53,
   "id": "1361d3ed-1565-4368-974a-1d4ec94cc11c",
   "metadata": {},
   "outputs": [
    {
     "data": {
      "image/png": "[encoded data removed]",
      "text/plain": [
       "<Figure size 432x288 with 1 Axes>"
      ]
     },
     "metadata": {
      "needs_background": "light"
     },
     "output_type": "display_data"
    }
   ],
   "source": [
    "im2 = plt.imshow(m2)"
   ]
  },
  {
   "cell_type": "code",
   "execution_count": 354,
   "id": "a3326f6f-2533-4f98-853b-7c2527c109ae",
   "metadata": {},
   "outputs": [
    {
     "data": {
      "text/plain": [
       "'C:\\\\Users\\\\Praveen\\\\Desktop\\\\NVspectrum\\\\September-2022\\\\16_09_2022'"
      ]
     },
     "execution_count": 354,
     "metadata": {},
     "output_type": "execute_result"
    }
   ],
   "source": [
    "path = 'C:\\\\Users\\\\Praveen\\\\Desktop\\\\NVspectrum\\\\September-2022\\\\16_09_2022'\n",
    "path"
   ]
  },
  {
   "cell_type": "code",
   "execution_count": 355,
   "id": "1b8b288e-8654-40ac-b648-0bb0cc7036ad",
   "metadata": {},
   "outputs": [
    {
     "data": {
      "text/html": [
       "<div>\n",
       "<style scoped>\n",
       "    .dataframe tbody tr th:only-of-type {\n",
       "        vertical-align: middle;\n",
       "    }\n",
       "\n",
       "    .dataframe tbody tr th {\n",
       "        vertical-align: top;\n",
       "    }\n",
       "\n",
       "    .dataframe thead th {\n",
       "        text-align: right;\n",
       "    }\n",
       "</style>\n",
       "<table border=\"1\" class=\"dataframe\">\n",
       "  <thead>\n",
       "    <tr style=\"text-align: right;\">\n",
       "      <th></th>\n",
       "      <th>X_data</th>\n",
       "      <th>Y_data</th>\n",
       "    </tr>\n",
       "  </thead>\n",
       "  <tbody>\n",
       "    <tr>\n",
       "      <th>0</th>\n",
       "      <td>2864397.468</td>\n",
       "      <td>1308471.030</td>\n",
       "    </tr>\n",
       "    <tr>\n",
       "      <th>1</th>\n",
       "      <td>2864791.259</td>\n",
       "      <td>1308452.491</td>\n",
       "    </tr>\n",
       "    <tr>\n",
       "      <th>2</th>\n",
       "      <td>2865182.724</td>\n",
       "      <td>1308446.216</td>\n",
       "    </tr>\n",
       "    <tr>\n",
       "      <th>3</th>\n",
       "      <td>2865583.648</td>\n",
       "      <td>1308498.076</td>\n",
       "    </tr>\n",
       "    <tr>\n",
       "      <th>4</th>\n",
       "      <td>2865955.467</td>\n",
       "      <td>1308497.600</td>\n",
       "    </tr>\n",
       "    <tr>\n",
       "      <th>...</th>\n",
       "      <td>...</td>\n",
       "      <td>...</td>\n",
       "    </tr>\n",
       "    <tr>\n",
       "      <th>125</th>\n",
       "      <td>2866889.305</td>\n",
       "      <td>1305018.610</td>\n",
       "    </tr>\n",
       "    <tr>\n",
       "      <th>126</th>\n",
       "      <td>2867279.510</td>\n",
       "      <td>1305044.660</td>\n",
       "    </tr>\n",
       "    <tr>\n",
       "      <th>127</th>\n",
       "      <td>2867629.738</td>\n",
       "      <td>1305048.708</td>\n",
       "    </tr>\n",
       "    <tr>\n",
       "      <th>128</th>\n",
       "      <td>2867990.112</td>\n",
       "      <td>1305044.469</td>\n",
       "    </tr>\n",
       "    <tr>\n",
       "      <th>129</th>\n",
       "      <td>2868356.056</td>\n",
       "      <td>1305048.312</td>\n",
       "    </tr>\n",
       "  </tbody>\n",
       "</table>\n",
       "<p>130 rows × 2 columns</p>\n",
       "</div>"
      ],
      "text/plain": [
       "          X_data       Y_data\n",
       "0    2864397.468  1308471.030\n",
       "1    2864791.259  1308452.491\n",
       "2    2865182.724  1308446.216\n",
       "3    2865583.648  1308498.076\n",
       "4    2865955.467  1308497.600\n",
       "..           ...          ...\n",
       "125  2866889.305  1305018.610\n",
       "126  2867279.510  1305044.660\n",
       "127  2867629.738  1305048.708\n",
       "128  2867990.112  1305044.469\n",
       "129  2868356.056  1305048.312\n",
       "\n",
       "[130 rows x 2 columns]"
      ]
     },
     "execution_count": 355,
     "metadata": {},
     "output_type": "execute_result"
    }
   ],
   "source": [
    "df = pd.read_csv(path+'\\\\filenew_xy_v67.dat')\n",
    "# df['Intensity'] = intensity_data\n",
    "df"
   ]
  },
  {
   "cell_type": "code",
   "execution_count": 356,
   "id": "c3a04ad9-4fb1-4ff3-913a-da2a503508c9",
   "metadata": {},
   "outputs": [],
   "source": [
    "df2 = pd.DataFrame(intensity_data, columns = ['Intensity'])"
   ]
  },
  {
   "cell_type": "code",
   "execution_count": 357,
   "id": "27fcd1ec-488b-41c9-8eca-0f279a665fcd",
   "metadata": {},
   "outputs": [],
   "source": [
    "df3 = pd.concat([df,df2], ignore_index=True, axis=1)"
   ]
  },
  {
   "cell_type": "code",
   "execution_count": 358,
   "id": "010e0e82-7639-4675-8cc5-b3739551a50c",
   "metadata": {},
   "outputs": [],
   "source": [
    "df3.columns =['X_data', 'Y_data', 'Intensity']"
   ]
  },
  {
   "cell_type": "code",
   "execution_count": 359,
   "id": "1ab30e2d-72a4-4384-9b6b-c0b9502aa2b2",
   "metadata": {},
   "outputs": [],
   "source": [
    "df3.to_csv(path+'\\\\pro_file_v67.csv', index = False)"
   ]
  },
  {
   "cell_type": "code",
   "execution_count": null,
   "id": "59cbf7fa-2e30-4eca-9528-88b39371cb03",
   "metadata": {},
   "outputs": [],
   "source": [
    "#   for i in range(0,12,2):\n",
    "#         i2 = int(i/2)\n",
    "#         dataFile = path1 + \"/dyna_\" + str(fileIndex[i2]) + \".dat\"\n",
    "#         wf1,wf2 = np.loadtxt(dataFile, usecols=(2, 4), unpack=True)\n",
    "#         wf1=wf1.reshape((dimX,dimY)).transpose()\n",
    "#         wf2=wf2.reshape((dimX,dimY)).transpose()\n",
    "\n",
    "#         im0=ax[i].imshow(wf1, extent=(X_min, X_max, Y_min, Y_max), vmin=wf_min, vmax=wf_max, cmap=colorMapName, interpolation='none',origin='lower')\n",
    "\n",
    "#         im1=ax[i+1].imshow(wf2, extent=(X_min, X_max, Y_min, Y_max), vmin=wf_min, vmax=wf_max, cmap=colorMapName, interpolation='none',origin='lower')"
   ]
  }
 ],
 "metadata": {
  "kernelspec": {
   "display_name": "Python 3 (ipykernel)",
   "language": "python",
   "name": "python3"
  },
  "language_info": {
   "codemirror_mode": {
    "name": "ipython",
    "version": 3
   },
   "file_extension": ".py",
   "mimetype": "text/x-python",
   "name": "python",
   "nbconvert_exporter": "python",
   "pygments_lexer": "ipython3",
   "version": "3.9.12"
  }
 },
 "nbformat": 4,
 "nbformat_minor": 5
}
