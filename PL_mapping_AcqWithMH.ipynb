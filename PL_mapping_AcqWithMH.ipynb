{
 "cells": [
  {
   "cell_type": "code",
   "execution_count": 34,
   "id": "3962c80d-f81d-4557-899d-b94f82c61f4b",
   "metadata": {},
   "outputs": [],
   "source": [
    "import matplotlib.pyplot as plt\n",
    "import numpy as np\n",
    "from pylab import colorbar,axis,title,show\n",
    "import nidaqmx\n",
    "from nidaqmx import constants\n",
    "from nidaqmx import stream_readers\n",
    "from nidaqmx import stream_writers\n",
    "import os\n",
    "import time"
   ]
  },
  {
   "cell_type": "code",
   "execution_count": 35,
   "id": "0c84e3bc-5bd2-490b-9ff6-f48c6271caa2",
   "metadata": {},
   "outputs": [
    {
     "data": {
      "text/plain": [
       "AOChannel(name=Dev5/ao1)"
      ]
     },
     "execution_count": 35,
     "metadata": {},
     "output_type": "execute_result"
    }
   ],
   "source": [
    "# task_write2 = nidaqmx.Task()\n",
    "# task_write2.ao_channels.add_ao_voltage_chan(\"Dev1/ao0\", min_val=-0.2, max_val=0.8)\n",
    "\n",
    "task_write0 = nidaqmx.Task()\n",
    "task_write0.ao_channels.add_ao_voltage_chan(\"Dev5/ao1\", min_val=0, max_val=5)\n",
    "# task_write.start()"
   ]
  },
  {
   "cell_type": "code",
   "execution_count": 17,
   "id": "d68cc239-96ee-432d-8a33-e7a2a4d5510c",
   "metadata": {},
   "outputs": [
    {
     "data": {
      "text/plain": [
       "DOChannel(name=Dev5/port0/line0)"
      ]
     },
     "execution_count": 17,
     "metadata": {},
     "output_type": "execute_result"
    }
   ],
   "source": [
    "task_dig = nidaqmx.Task()\n",
    "task_dig.do_channels.add_do_chan('Dev5/port0/line0')"
   ]
  },
  {
   "cell_type": "code",
   "execution_count": 36,
   "id": "93812644-f715-41f0-ba11-0af8f5aa384e",
   "metadata": {},
   "outputs": [],
   "source": [
    "def daq_sqwave(n):\n",
    "    for _ in range(n):\n",
    "        task_dig.write(True) ## 500 mV pk-pk\n",
    "        # task_write2.stop()\n",
    "        time.sleep(0.01)\n",
    "        task_dig.write(False)\n",
    "        # task_write0.stop()\n",
    "        # task_dig.stop()\n",
    "        time.sleep(0.05)\n",
    "        task_dig.stop()\n",
    "    return 'Done'"
   ]
  },
  {
   "cell_type": "code",
   "execution_count": 37,
   "id": "63d77f81-39ac-48ef-9950-215f302a1ce5",
   "metadata": {},
   "outputs": [
    {
     "data": {
      "text/plain": [
       "'Done'"
      ]
     },
     "execution_count": 37,
     "metadata": {},
     "output_type": "execute_result"
    }
   ],
   "source": [
    "daq_sqwave(100)"
   ]
  },
  {
   "cell_type": "code",
   "execution_count": 7,
   "id": "3f9d5314-7730-4ea5-a47c-eb91bf9c5ea8",
   "metadata": {},
   "outputs": [],
   "source": [
    "from AMC_python import AMC\n",
    "\n",
    "# import time\n",
    "\n",
    "IP = \"192.168.1.1\"\n",
    "\n",
    "# Setup connection to AMC\n",
    "amc = AMC.Device(IP)\n",
    "amc.connect()"
   ]
  },
  {
   "cell_type": "code",
   "execution_count": 8,
   "id": "48732517-7f92-4acc-841a-29af3f55c542",
   "metadata": {},
   "outputs": [],
   "source": [
    "axis0 = 0 # Axis 1\n",
    "amc.control.setControlOutput(axis0, True)\n",
    "\n",
    "# Activate axis 2\n",
    "axis1 = 1 # Axis 2\n",
    "amc.control.setControlOutput(axis1, True)\n",
    "axis2 = 2 # Axis 3\n",
    "amc.control.setControlOutput(axis2, True)"
   ]
  },
  {
   "cell_type": "code",
   "execution_count": 9,
   "id": "dc2aeafe-4105-497b-9157-35467a4eec44",
   "metadata": {},
   "outputs": [],
   "source": [
    "frequency0 = amc.control.getControlFrequency(axis0)\n",
    "frequency1 = amc.control.getControlFrequency(axis1)\n",
    "amp0 = amc.control.getControlAmplitude(axis0)\n",
    "amp1 = amc.control.getControlAmplitude(axis1)"
   ]
  },
  {
   "cell_type": "code",
   "execution_count": 7,
   "id": "4d946990-34cb-4852-b870-279364c5447f",
   "metadata": {},
   "outputs": [
    {
     "data": {
      "text/plain": [
       "35101"
      ]
     },
     "execution_count": 7,
     "metadata": {},
     "output_type": "execute_result"
    }
   ],
   "source": [
    "# (amc.move.getPosition(axis0),amc.move.getPosition(axis1))\n",
    "amp0"
   ]
  },
  {
   "cell_type": "code",
   "execution_count": 135,
   "id": "5e554357-bbf9-47c6-9c68-c65c24e75dc5",
   "metadata": {},
   "outputs": [],
   "source": [
    "# def raster_scan(x_move,y_move,x_step,y_step):\n",
    "#     # x_step = 1\n",
    "#     # y_step = 50\n",
    "#     pos_xy = []\n",
    "#     # j = 0\n",
    "#     # pos_xy = [(amc.move.getPosition(axis0),amc.move.getPosition(axis1))]\n",
    "#     for i in range(y_move):\n",
    "#         x = i\n",
    "#         amc.move.setNSteps(axis1, False, y_step)\n",
    "#         pos_xy.append((amc.move.getPosition(axis0),amc.move.getPosition(axis1)))\n",
    "#         print(i,(amc.move.getPosition(axis0),amc.move.getPosition(axis1)))\n",
    "#         daq_sqwave(1)\n",
    "#         time.sleep(0.8)\n",
    "#         # print('Pos_y: ',amc.move.getPosition(axis1))\n",
    "#         for j in range(x_move):\n",
    "#             # amc.move.setNSteps(axis0, x%2, x_step)\n",
    "#             amc.move.setNSteps(axis0, x%2, x_step)\n",
    "#             pos_xy.append((amc.move.getPosition(axis0),amc.move.getPosition(axis1)))\n",
    "#             daq_sqwave(1)\n",
    "#             print(j,i,(amc.move.getPosition(axis0),amc.move.getPosition(axis1)))\n",
    "#             time.sleep(0.8)\n",
    "           \n",
    "#             # pos_x.append(amc.move.getPosition(axis0))\n",
    "#         # print('Pos_x: ',amc.move.getPosition(axis0))\n",
    "#         # pos_xy.append((amc.move.getPosition(axis0),amc.move.getPosition(axis1)))\n",
    "#         # amc.move.setNSteps(axis1, False, y_step)\n",
    "#         # pos_xy.append((amc.move.getPosition(axis0),amc.move.getPosition(axis1)))\n",
    "#         # print(j,i,(amc.move.getPosition(axis0),amc.move.getPosition(axis1)))\n",
    "#         # daq_sqwave(1)\n",
    "#         # time.sleep(0.5)\n",
    "#     # return print('Scan Over')\n",
    "#     return pos_xy"
   ]
  },
  {
   "cell_type": "code",
   "execution_count": 10,
   "id": "9371107a-8883-4fa4-8c91-ece3544b1e72",
   "metadata": {},
   "outputs": [],
   "source": [
    "### TEST\n",
    "\n",
    "def raster_scan(x_move,y_move,x_step,y_step):\n",
    "    # x_step = 1\n",
    "    # y_step = 50\n",
    "    pos_xy = []\n",
    "    # j = 0\n",
    "    # pos_xy = [(amc.move.getPosition(axis0),amc.move.getPosition(axis1))]\n",
    "    for i in range(y_move):\n",
    "        x = i\n",
    "        amc.move.setNSteps(axis1, False, y_step)\n",
    "        pos_xy.append((amc.move.getPosition(axis0),amc.move.getPosition(axis1)))\n",
    "        print(i,(amc.move.getPosition(axis0),amc.move.getPosition(axis1)))\n",
    "        daq_sqwave(1)\n",
    "        time.sleep(0.2)\n",
    "        for j in range(x_move):\n",
    "            # amc.move.setNSteps(axis0, x%2, x_step)\n",
    "            if x%2 == 1:\n",
    "                amc.control.setControlAmplitude(axis0,35101)\n",
    "            else:\n",
    "                amc.control.setControlAmplitude(axis0,41001)\n",
    "            amc.move.setNSteps(axis0, x%2, x_step)\n",
    "            pos_xy.append((amc.move.getPosition(axis0),amc.move.getPosition(axis1)))\n",
    "            daq_sqwave(1)\n",
    "            print(j,i,amc.control.getControlAmplitude(axis0),(amc.move.getPosition(axis0),amc.move.getPosition(axis1)))\n",
    "            time.sleep(0.2)\n",
    "           \n",
    "            # pos_x.append(amc.move.getPosition(axis0))\n",
    "        # print('Pos_x: ',amc.move.getPosition(axis0))\n",
    "        # pos_xy.append((amc.move.getPosition(axis0),amc.move.getPosition(axis1)))\n",
    "        # amc.move.setNSteps(axis1, False, y_step)\n",
    "        # pos_xy.append((amc.move.getPosition(axis0),amc.move.getPosition(axis1)))\n",
    "        # print(j,i,(amc.move.getPosition(axis0),amc.move.getPosition(axis1)))\n",
    "        # # daq_sqwave(1)\n",
    "        # time.sleep(0.5)\n",
    "    # return print('Scan Over')\n",
    "    return pos_xy"
   ]
  },
  {
   "cell_type": "code",
   "execution_count": 11,
   "id": "a4e5aee1-78b6-44f6-82b6-e882cc373bd9",
   "metadata": {},
   "outputs": [
    {
     "name": "stdout",
     "output_type": "stream",
     "text": [
      "0 (8588.27, 35605.917)\n",
      "0 0 40999 (10104.631, 35613.417)\n",
      "1 0 40999 (11594.232, 35615.539)\n",
      "2 0 40999 (13194.637, 35621.561)\n",
      "3 0 40999 (14924.31, 35621.118)\n",
      "4 0 40999 (16595.878, 35614.709)\n",
      "5 0 40999 (18221.539, 35619.516)\n",
      "6 0 40999 (19834.713, 35617.666)\n",
      "7 0 40999 (21404.79, 35621.309)\n",
      "8 0 40999 (23001.947, 35621.995)\n",
      "9 0 40999 (24709.31, 35623.822)\n",
      "10 0 40999 (26369.58, 35620.923)\n",
      "11 0 40999 (27906.503, 35625.376)\n",
      "12 0 40999 (29422.774, 35623.569)\n",
      "13 0 40999 (30914.349, 35619.43)\n",
      "14 0 40999 (32440.656, 35623.331)\n",
      "15 0 40999 (34128.446, 35622.911)\n",
      "16 0 40999 (35842.017, 35621.323)\n",
      "17 0 40999 (37471.942, 35626.521)\n",
      "18 0 40999 (39093.975, 35624.99)\n",
      "19 0 40999 (40677.379, 35628.047)\n",
      "20 0 40999 (42231.711, 35624.332)\n",
      "21 0 40999 (43858.403, 35623.264)\n",
      "22 0 40999 (45552.081, 35624.981)\n",
      "23 0 40999 (47109.031, 35624.313)\n",
      "24 0 40999 (48606.471, 35622.348)\n",
      "25 0 40999 (50092.901, 35623.259)\n",
      "26 0 40999 (51557.602, 35622.291)\n",
      "27 0 40999 (53123.135, 35625.462)\n",
      "28 0 40999 (54815.33, 35625.634)\n",
      "1 (54809.603, 34212.536)\n",
      "0 1 35101 (53093.632, 34205.336)\n",
      "1 1 35101 (51509.322, 34207.554)\n",
      "2 1 35101 (50027.007, 34210.82)\n",
      "3 1 35101 (48526.696, 34208.378)\n",
      "4 1 35101 (47018.007, 34209.389)\n",
      "5 1 35101 (45437.774, 34209.685)\n",
      "6 1 35101 (43747.338, 34213.3)\n",
      "7 1 35101 (42124.127, 34214.038)\n",
      "8 1 35101 (40583.767, 34209.985)\n",
      "9 1 35101 (39009.389, 34211.645)\n",
      "10 1 35101 (37420.467, 34210.863)\n",
      "11 1 35101 (35825.051, 34209.647)\n",
      "12 1 35101 (34154.891, 34212.737)\n",
      "13 1 35101 (32505.941, 34213.705)\n",
      "14 1 35101 (31010.77, 34208.645)\n",
      "15 1 35101 (29554.681, 34214.668)\n",
      "16 1 35101 (28082.422, 34212.741)\n",
      "17 1 35101 (26587.18, 34210.763)\n",
      "18 1 35101 (25006.417, 34211.535)\n",
      "19 1 35101 (23339.542, 34214.377)\n",
      "20 1 35101 (21761.021, 34212.317)\n",
      "21 1 35101 (20233.42, 34212.885)\n",
      "22 1 35101 (18659.567, 34212.031)\n",
      "23 1 35101 (17076.672, 34211.936)\n",
      "24 1 35101 (15475.315, 34210.824)\n",
      "25 1 35101 (13795.709, 34210.491)\n",
      "26 1 35101 (12190.093, 34208.331)\n",
      "27 1 35101 (10720.381, 34210.644)\n",
      "28 1 35101 (9272.336, 34212.594)\n",
      "2 (9268.025, 32746.329)\n",
      "0 2 40999 (10769.529, 32764.077)\n",
      "1 2 40999 (12284.383, 32768.707)\n",
      "2 2 40999 (13952.235, 32770.147)\n",
      "3 2 40999 (15670.07, 32770.457)\n",
      "4 2 40999 (17309.46, 32768.979)\n",
      "5 2 40999 (18933.038, 32770.295)\n",
      "6 2 40999 (20541.886, 32771.94)\n",
      "7 2 40999 (22102.741, 32766.819)\n",
      "8 2 40999 (23745.15, 32774.243)\n",
      "9 2 40999 (25447.711, 32771.596)\n",
      "10 2 40999 (27028.722, 32772.641)\n",
      "11 2 40999 (28546.518, 32774.572)\n",
      "12 2 40999 (30048.107, 32774.362)\n",
      "13 2 40999 (31528.362, 32777.118)\n",
      "14 2 40999 (33107.537, 32773.642)\n",
      "15 2 40999 (34821.133, 32773.79)\n",
      "16 2 40999 (36492.337, 32775.559)\n",
      "17 2 40999 (38112.382, 32772.312)\n",
      "18 2 40999 (39730.796, 32771.711)\n",
      "19 2 40999 (41301.617, 32770.958)\n",
      "20 2 40999 (42868.461, 32773.9)\n",
      "21 2 40999 (44538.039, 32772.517)\n",
      "22 2 40999 (46173.672, 32775.487)\n",
      "23 2 40999 (47691.64, 32770.504)\n",
      "24 2 40999 (49189.171, 32774.863)\n",
      "25 2 40999 (50658.106, 32772.278)\n",
      "26 2 40999 (52140.75, 32772.417)\n",
      "27 2 40999 (53765.42, 32775.597)\n",
      "28 2 40999 (55459.928, 32774.009)\n",
      "3 (55454.925, 31293.878)\n",
      "0 3 35101 (53728.122, 31297.798)\n",
      "1 3 35101 (52085.637, 31298.16)\n",
      "2 3 35101 (50584.997, 31300.12)\n",
      "3 3 35101 (49106.187, 31302.113)\n",
      "4 3 35101 (47603.568, 31300.683)\n",
      "5 3 35101 (46062.821, 31304.826)\n",
      "6 3 35101 (44409.041, 31305.284)\n",
      "7 3 35101 (42735.69, 31305.78)\n",
      "8 3 35101 (41182.426, 31304.75)\n",
      "9 3 35101 (39624.118, 31309.128)\n",
      "10 3 35101 (38041.348, 31304.235)\n",
      "11 3 35101 (36449.026, 31304.764)\n",
      "12 3 35101 (34809.04, 31307.401)\n",
      "13 3 35101 (33127.789, 31305.26)\n",
      "14 3 35101 (31574.234, 31309.061)\n",
      "15 3 35101 (30122.456, 31306.338)\n",
      "16 3 35101 (28649.105, 31303.51)\n",
      "17 3 35101 (27169.794, 31305.003)\n",
      "18 3 35101 (25635.446, 31306.257)\n",
      "19 3 35101 (23977.374, 31305.356)\n",
      "20 3 35101 (22349.7, 31306.452)\n",
      "21 3 35101 (20816.592, 31308.946)\n",
      "22 3 35101 (19260.615, 31307.063)\n",
      "23 3 35101 (17672.419, 31306.805)\n",
      "24 3 35101 (16079.554, 31305.751)\n",
      "25 3 35101 (14425.434, 31305.542)\n",
      "26 3 35101 (12768.554, 31308.898)\n",
      "27 3 35101 (11259.269, 31308.808)\n",
      "28 3 35101 (9818.095, 31312.079)\n",
      "4 (9814.094, 29746.69)\n",
      "0 4 40999 (11313.9, 29770.207)\n",
      "1 4 40999 (12873.238, 29770.302)\n",
      "2 4 40999 (14580.94, 29770.197)\n",
      "3 4 40999 (16267.342, 29771.442)\n",
      "4 4 40999 (17893.495, 29770.078)\n",
      "5 4 40999 (19515.275, 29771.065)\n",
      "6 4 40999 (21095.07, 29770.841)\n",
      "7 4 40999 (22673.058, 29772.958)\n",
      "8 4 40999 (24353.909, 29773.464)\n",
      "9 4 40999 (26019.248, 29773.12)\n",
      "10 4 40999 (27561.859, 29771.804)\n",
      "11 4 40999 (29072.121, 29772.758)\n",
      "12 4 40999 (30560.02, 29772.467)\n",
      "13 4 40999 (32053.98, 29773.025)\n",
      "14 4 40999 (33685.202, 29776.101)\n",
      "15 4 40999 (35398.635, 29778.046)\n",
      "16 4 40999 (37038.326, 29773.392)\n",
      "17 4 40999 (38664.736, 29777.607)\n",
      "18 4 40999 (40266.303, 29779.539)\n",
      "19 4 40999 (41824.111, 29775.123)\n",
      "20 4 40999 (43425.388, 29776.93)\n",
      "21 4 40999 (45105.695, 29778.17)\n",
      "22 4 40999 (46693.091, 29779.801)\n",
      "23 4 40999 (48196.72, 29775.409)\n",
      "24 4 40999 (49685.591, 29777.217)\n",
      "25 4 40999 (51145.166, 29777.932)\n",
      "26 4 40999 (52667.417, 29776.039)\n",
      "27 4 40999 (54330.51, 29777.56)\n",
      "28 4 40999 (56003.079, 29777.813)\n",
      "5 (55998.763, 28211.383)\n",
      "0 5 35101 (54295.687, 28208.813)\n",
      "1 5 35101 (52605.079, 28210.354)\n",
      "2 5 35101 (51072.315, 28210.373)\n",
      "3 5 35101 (49592.609, 28212.347)\n",
      "4 5 35101 (48094.93, 28211.979)\n",
      "5 5 35101 (46577.796, 28213.729)\n",
      "6 5 35101 (44972.49, 28215.288)\n",
      "7 5 35101 (43273.963, 28214.607)\n",
      "8 5 35101 (41694.922, 28214.593)\n",
      "9 5 35101 (40151.433, 28215.15)\n",
      "10 5 35101 (38570.994, 28214.24)\n",
      "11 5 35101 (36977.714, 28215.617)\n",
      "12 5 35101 (35358.633, 28214.531)\n",
      "13 5 35101 (33676.481, 28214.411)\n",
      "14 5 35101 (32064.489, 28214.149)\n",
      "15 5 35101 (30597.152, 28213.901)\n",
      "16 5 35101 (29136.862, 28216.133)\n",
      "17 5 35101 (27661.046, 28215.818)\n",
      "18 5 35101 (26143.617, 28216.185)\n",
      "19 5 35101 (24517.416, 28215.761)\n",
      "20 5 35101 (22859.825, 28215.255)\n",
      "21 5 35101 (21311.559, 28216.986)\n",
      "22 5 35101 (19767.937, 28216.08)\n",
      "23 5 35101 (18183.679, 28218.464)\n",
      "24 5 35101 (16597.175, 28217.806)\n",
      "25 5 35101 (14968.971, 28219.28)\n",
      "26 5 35101 (13292.884, 28220.873)\n",
      "27 5 35101 (11734.461, 28218.159)\n",
      "28 5 35101 (10285.367, 28218.941)\n",
      "6 (10277.103, 26711.12)\n",
      "0 6 40999 (11783.675, 26709.07)\n",
      "1 6 40999 (13393.83, 26708.641)\n",
      "2 6 40999 (15114.588, 26712.784)\n",
      "3 6 40999 (16774.41, 26711.459)\n",
      "4 6 40999 (18393.835, 26714.096)\n"
     ]
    },
    {
     "name": "stderr",
     "output_type": "stream",
     "text": [
      "C:\\Users\\Praveen\\anaconda3\\lib\\site-packages\\nidaqmx\\task.py:98: ResourceWarning: Task of name \"_unnamedTask<0>\" was not explicitly closed before it was destructed. Resources on the task device may still be reserved.\n",
      "  warnings.warn(\n"
     ]
    },
    {
     "ename": "KeyboardInterrupt",
     "evalue": "",
     "output_type": "error",
     "traceback": [
      "\u001b[1;31m---------------------------------------------------------------------------\u001b[0m",
      "\u001b[1;31mKeyboardInterrupt\u001b[0m                         Traceback (most recent call last)",
      "Input \u001b[1;32mIn [11]\u001b[0m, in \u001b[0;36m<cell line: 5>\u001b[1;34m()\u001b[0m\n\u001b[0;32m      3\u001b[0m y_move \u001b[38;5;241m=\u001b[39m \u001b[38;5;241m30\u001b[39m\n\u001b[0;32m      4\u001b[0m x_move \u001b[38;5;241m=\u001b[39m \u001b[38;5;241m29\u001b[39m\n\u001b[1;32m----> 5\u001b[0m p \u001b[38;5;241m=\u001b[39m \u001b[43mraster_scan\u001b[49m\u001b[43m(\u001b[49m\u001b[43mx_move\u001b[49m\u001b[43m,\u001b[49m\u001b[43my_move\u001b[49m\u001b[43m,\u001b[49m\u001b[43mx_step\u001b[49m\u001b[43m,\u001b[49m\u001b[43my_step\u001b[49m\u001b[43m)\u001b[49m\n",
      "Input \u001b[1;32mIn [10]\u001b[0m, in \u001b[0;36mraster_scan\u001b[1;34m(x_move, y_move, x_step, y_step)\u001b[0m\n\u001b[0;32m     22\u001b[0m amc\u001b[38;5;241m.\u001b[39mmove\u001b[38;5;241m.\u001b[39msetNSteps(axis0, x\u001b[38;5;241m%\u001b[39m\u001b[38;5;241m2\u001b[39m, x_step)\n\u001b[0;32m     23\u001b[0m pos_xy\u001b[38;5;241m.\u001b[39mappend((amc\u001b[38;5;241m.\u001b[39mmove\u001b[38;5;241m.\u001b[39mgetPosition(axis0),amc\u001b[38;5;241m.\u001b[39mmove\u001b[38;5;241m.\u001b[39mgetPosition(axis1)))\n\u001b[1;32m---> 24\u001b[0m \u001b[43mdaq_sqwave\u001b[49m\u001b[43m(\u001b[49m\u001b[38;5;241;43m1\u001b[39;49m\u001b[43m)\u001b[49m\n\u001b[0;32m     25\u001b[0m \u001b[38;5;28mprint\u001b[39m(j,i,amc\u001b[38;5;241m.\u001b[39mcontrol\u001b[38;5;241m.\u001b[39mgetControlAmplitude(axis0),(amc\u001b[38;5;241m.\u001b[39mmove\u001b[38;5;241m.\u001b[39mgetPosition(axis0),amc\u001b[38;5;241m.\u001b[39mmove\u001b[38;5;241m.\u001b[39mgetPosition(axis1)))\n\u001b[0;32m     26\u001b[0m time\u001b[38;5;241m.\u001b[39msleep(\u001b[38;5;241m0.2\u001b[39m)\n",
      "Input \u001b[1;32mIn [6]\u001b[0m, in \u001b[0;36mdaq_sqwave\u001b[1;34m(n)\u001b[0m\n\u001b[0;32m      6\u001b[0m     task_dig\u001b[38;5;241m.\u001b[39mwrite(\u001b[38;5;28;01mFalse\u001b[39;00m)\n\u001b[0;32m      7\u001b[0m     \u001b[38;5;66;03m# task_write0.stop()\u001b[39;00m\n\u001b[0;32m      8\u001b[0m     \u001b[38;5;66;03m# task_dig.stop()\u001b[39;00m\n\u001b[1;32m----> 9\u001b[0m     \u001b[43mtime\u001b[49m\u001b[38;5;241;43m.\u001b[39;49m\u001b[43msleep\u001b[49m\u001b[43m(\u001b[49m\u001b[38;5;241;43m0.05\u001b[39;49m\u001b[43m)\u001b[49m\n\u001b[0;32m     10\u001b[0m     task_dig\u001b[38;5;241m.\u001b[39mstop()\n\u001b[0;32m     11\u001b[0m \u001b[38;5;28;01mreturn\u001b[39;00m \u001b[38;5;124m'\u001b[39m\u001b[38;5;124mDone\u001b[39m\u001b[38;5;124m'\u001b[39m\n",
      "\u001b[1;31mKeyboardInterrupt\u001b[0m: "
     ]
    }
   ],
   "source": [
    "x_step = 2\n",
    "y_step = 2\n",
    "y_move = 30\n",
    "x_move = 29\n",
    "p = raster_scan(x_move,y_move,x_step,y_step)"
   ]
  },
  {
   "cell_type": "code",
   "execution_count": 24,
   "id": "ad503eb7-7780-4749-b6e3-a64831cac38a",
   "metadata": {},
   "outputs": [
    {
     "name": "stdout",
     "output_type": "stream",
     "text": [
      "900\n"
     ]
    },
    {
     "data": {
      "image/png": "[encoded data removed]",
      "text/plain": [
       "<Figure size 432x288 with 1 Axes>"
      ]
     },
     "metadata": {
      "needs_background": "light"
     },
     "output_type": "display_data"
    }
   ],
   "source": [
    "print(len(p))\n",
    "# plt.scatter(p[0],p[1])\n",
    "plt.plot(*zip(*p),'g.')\n",
    "\n",
    "path = 'C:\\\\Users\\\\Praveen\\\\Desktop\\\\NVspectrum'\n",
    "plt.savefig(path+'\\\\Scan_xy_v37.jpg',format='jpg')"
   ]
  },
  {
   "cell_type": "code",
   "execution_count": 23,
   "id": "199144af-5b52-42db-abe0-c9855261cecc",
   "metadata": {},
   "outputs": [],
   "source": [
    "import pandas as pd\n",
    "df = pd.DataFrame(p, columns = ['X_data','Y_data'])\n",
    "\n",
    "path = 'C:\\\\Users\\\\Praveen\\\\Desktop\\\\NVspectrum\\\\29_08_2022'\n",
    "df.to_csv(path+'\\\\filenew_xy_v37.dat', index=False)"
   ]
  },
  {
   "cell_type": "code",
   "execution_count": 20,
   "id": "e453777a-f650-43e0-9b5c-bbe534791ede",
   "metadata": {},
   "outputs": [],
   "source": [
    "for i in range(y_move):    \n",
    "    amc.move.setNSteps(axis1, True, y_step)"
   ]
  },
  {
   "cell_type": "code",
   "execution_count": 84,
   "id": "4dfa15d0-bcb8-47dc-ad3a-46a4a38c4784",
   "metadata": {},
   "outputs": [],
   "source": [
    "pos1f = amc.move.getPosition(axis0)\n",
    "for i in range(1):    \n",
    "    amc.move.setNSteps(axis0, False, y_step)\n",
    "    time.sleep(0.8)\n",
    "    \n",
    "pos2f = amc.move.getPosition(axis0)"
   ]
  },
  {
   "cell_type": "code",
   "execution_count": 85,
   "id": "8cdebb1a-5bb5-4819-8efc-2d186e0a0313",
   "metadata": {},
   "outputs": [
    {
     "data": {
      "text/plain": [
       "1305.637999999999"
      ]
     },
     "execution_count": 85,
     "metadata": {},
     "output_type": "execute_result"
    }
   ],
   "source": [
    "abs(pos1f - pos2f)"
   ]
  },
  {
   "cell_type": "code",
   "execution_count": 83,
   "id": "7599f073-b5b5-431e-9261-3c171b1c659e",
   "metadata": {},
   "outputs": [
    {
     "data": {
      "text/plain": [
       "1582.699999999997"
      ]
     },
     "execution_count": 83,
     "metadata": {},
     "output_type": "execute_result"
    }
   ],
   "source": [
    "abs(pos1b - pos2b)"
   ]
  },
  {
   "cell_type": "code",
   "execution_count": 82,
   "id": "8d0f9dde-7ebc-4db3-bcb7-ab131e791301",
   "metadata": {},
   "outputs": [],
   "source": [
    "pos1b = amc.move.getPosition(axis0)\n",
    "for i in range(1):    \n",
    "    amc.move.setNSteps(axis0, True, y_step)\n",
    "    time.sleep(0.8)\n",
    "    \n",
    "pos2b = amc.move.getPosition(axis0)"
   ]
  },
  {
   "cell_type": "code",
   "execution_count": 90,
   "id": "6b7c7b9e-2571-402e-b5f0-97cf32faccd1",
   "metadata": {},
   "outputs": [
    {
     "data": {
      "text/plain": [
       "True"
      ]
     },
     "execution_count": 90,
     "metadata": {},
     "output_type": "execute_result"
    }
   ],
   "source": [
    "True == 1"
   ]
  },
  {
   "cell_type": "code",
   "execution_count": 75,
   "id": "dddf605f-1257-4374-a5f9-9190dc788957",
   "metadata": {},
   "outputs": [],
   "source": [
    "amc.control.setControlAmplitude(axis0,35001)"
   ]
  },
  {
   "cell_type": "code",
   "execution_count": 123,
   "id": "2cfd2a59-a299-494c-9364-e69b8f91ff69",
   "metadata": {},
   "outputs": [],
   "source": [
    "# # Deativate axis\n",
    "# amc.control.setControlOutput(axis, False)\n",
    "amc.close()\n",
    "# Close connection"
   ]
  },
  {
   "cell_type": "code",
   "execution_count": 29,
   "id": "792cf899-8a57-42e2-a0e5-8da521cec589",
   "metadata": {},
   "outputs": [],
   "source": [
    "# w = nidaqmx.stream_writers.AnalogSingleChannelWriter(task_write0.out_stream, auto_start=True)"
   ]
  },
  {
   "cell_type": "code",
   "execution_count": 28,
   "id": "5b487414-226b-4a6d-9a5b-0356ef7e611e",
   "metadata": {},
   "outputs": [],
   "source": [
    "# # w.write_one_sample(1)\n",
    "# # w.write_one_sample(0)\n",
    "\n",
    "\n",
    "# def daq_sqwave(n):\n",
    "#     for _ in range(n):\n",
    "#         w.write_one_sample(1) ## 500 mV pk-pk\n",
    "#         # task_write2.stop()\n",
    "#         time.sleep(0.05)\n",
    "#         w.write_one_sample(0)\n",
    "#         task_write0.stop()\n",
    "#         time.sleep(0.1)\n",
    "#     return 'Done'"
   ]
  },
  {
   "cell_type": "code",
   "execution_count": 32,
   "id": "8db72c62-b7fb-4da4-bcd7-64523be50a86",
   "metadata": {},
   "outputs": [],
   "source": [
    "task_write0.stop()\n",
    "task_write0.close()"
   ]
  }
 ],
 "metadata": {
  "kernelspec": {
   "display_name": "Python 3 (ipykernel)",
   "language": "python",
   "name": "python3"
  },
  "language_info": {
   "codemirror_mode": {
    "name": "ipython",
    "version": 3
   },
   "file_extension": ".py",
   "mimetype": "text/x-python",
   "name": "python",
   "nbconvert_exporter": "python",
   "pygments_lexer": "ipython3",
   "version": "3.9.12"
  }
 },
 "nbformat": 4,
 "nbformat_minor": 5
}
