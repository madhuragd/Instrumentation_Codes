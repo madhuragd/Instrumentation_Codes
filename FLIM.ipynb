{
 "cells": [
  {
   "cell_type": "code",
   "execution_count": 173,
   "id": "f8b3b74b-049f-4c8c-89c0-a7b4ac20f0e0",
   "metadata": {},
   "outputs": [],
   "source": [
    "# import nidaqmx\n",
    "# import os\n",
    "# import time\n",
    "# import numpy as np\n",
    "# import matplotlib.pyplot as plt\n",
    "\n",
    "# import pyfirmata\n",
    "# # import time\n",
    "# board = pyfirmata.Arduino('COM3')\n",
    "\n",
    "# # board.exit()\n",
    "\n",
    "\n",
    "# # task_write0 = nidaqmx.Task()\n",
    "# # task_write0.ao_channels.add_ao_voltage_chan(\"Dev5/ao1\", min_val=0, max_val=5)\n",
    "\n",
    "# # def daq_sqwave(n):\n",
    "# #     for _ in range(n):\n",
    "# #         task_write0.write(5) ## Give Voltage Value for pk-pk (5 V for Marker and 0.5 V for Sync)\n",
    "# #         # task_write0.stop()\n",
    "# #         time.sleep(0.01) ### Pulse width\n",
    "# #         task_write0.write(0)\n",
    "# #         task_write0.stop()\n",
    "# #         # task_dig.stop()\n",
    "# #         time.sleep(0.1) ### Time between two operations of for loop\n",
    "# #         # task_dig.stop()\n",
    "# #     return 'Done'\n",
    "\n",
    "# # task_dig = nidaqmx.Task()\n",
    "# # task_dig.do_channels.add_do_chan('Dev5/port0/line0')\n",
    "\n",
    "# # # task_dig.write(True,auto_start=True)\n",
    "# # # time.sleep(0.01)\n",
    "# # # task_dig.write(False,auto_start=True)\n",
    "\n",
    "# # def daq_sqwave(n):\n",
    "# #     for _ in range(n):\n",
    "# #         task_dig.write(True,auto_start=True) ## 500 mV pk-pk\n",
    "# #         time.sleep(0.05) ### Pulse width\n",
    "# #         # task_write2.stop()\n",
    "# #         # time.sleep(0.0001)\n",
    "\n",
    "\n",
    "# #         task_dig.write(False,auto_start=True)\n",
    "# #         # task_dig.stop()\n",
    "        \n",
    "# #         # task_write0.stop()\n",
    "# #         task_dig.stop()\n",
    "# #         time.sleep(0.1)\n",
    "# #     return 'Done'\n",
    "# # daq_sqwave(10)\n",
    "# # daq_sqwave(10)"
   ]
  },
  {
   "cell_type": "code",
   "execution_count": 174,
   "id": "c913edda-8736-44c6-a1d0-280320088e4c",
   "metadata": {},
   "outputs": [],
   "source": [
    "# def ard_sqwave(n):\n",
    "#     for _ in range(n):\n",
    "#         board.digital[13].write(1)\n",
    "#         time.sleep(0.005)\n",
    "#         board.digital[13].write(0)\n",
    "#         time.sleep(0.1)\n",
    "#     return 'Done'\n",
    "# # ard_sqwave(20)\n",
    "\n",
    "# # def ard_sqwave(n):\n",
    "# #     for _ in range(n):\n",
    "# #         board.digital[13].write(1)\n",
    "# #         time.sleep(0.005)\n",
    "# #         board.digital[13].write(0)\n",
    "# #         time.sleep(2)\n",
    "# #     return 'Done'\n",
    "# # ard_sqwave(5)\n",
    "\n",
    "\n",
    "\n"
   ]
  },
  {
   "cell_type": "code",
   "execution_count": 184,
   "id": "37d8a695-6285-4488-b69d-a7d4be8fce34",
   "metadata": {},
   "outputs": [],
   "source": [
    "from AMC_python import AMC\n",
    "import os\n",
    "import time\n",
    "import numpy as np\n",
    "import matplotlib.pyplot as plt\n",
    "from TimeTagger import *\n",
    "# import numpy as np\n",
    "# import matplotlib.pyplot as plt\n",
    "from IPython.display import clear_output\n",
    "# import time\n",
    "from __future__ import print_function\n",
    "import sys\n",
    "tt = createTimeTagger()\n",
    "\n",
    "\n",
    "def histo(t):\n",
    "    tt.getOverflowsAndClear()\n",
    "    PIXEL_START_CH = 2 # Rising edge on input 1\n",
    "    SPD_CH = 3\n",
    "    n_values = 6600\n",
    "    binwidth = 5\n",
    "    chist = Histogram(tt, SPD_CH, PIXEL_START_CH, binwidth,n_values)\n",
    "    chist.startFor(t) #60e12 #in ps\n",
    "    while chist.isRunning():\n",
    "        arr = chist.getData()\n",
    "        clear_output(wait=True)\n",
    "        plt.plot(range(len(arr)),arr[range(len(arr))])\n",
    "        plt.show()\n",
    "    return arr\n",
    "    # clear_output(wait=True)\n",
    "    \n",
    "    # print(chist.getData())\n",
    "    # time.sleep(20)\n",
    "    # chist.stop()\n",
    "# plt.plot(range(len(arr)),arr[range(len(arr))])\n",
    "\n",
    "def fit_lifetime(x):\n",
    "    m = range(len(x))\n",
    "    max_i = np.argmax(x)\n",
    "    t1 = m[max_i:]\n",
    "    x1 = x[max_i:]\n",
    "    def expdec(t,a,l,b):\n",
    "    # a = x[max_i]\n",
    "        return a*np.exp(-(t-np.argmax(x))/l) + b\n",
    "    params, cov = curve_fit(expdec, t1, x1)\n",
    "    return params[1]\n",
    "\n",
    "    # i = i + 1\n",
    "\n",
    "# def expdec(t,a,l,b):\n",
    "#     # a = x[max_i]\n",
    "#     return a*np.exp(-(t-max_i)/l) + b\n",
    "\n",
    "# def fit_lifetime(x):\n",
    "#     m = range(len(x))\n",
    "#     max_i = np.argmax(x)\n",
    "#     t1 = m[max_i:]\n",
    "#     x1 = x[max_i:]\n",
    "#     params, cov = curve_fit(expdec, t1, x1)\n",
    "#     return params[1]\n",
    "# # import time\n",
    "\n",
    "IP = \"192.168.1.1\"\n",
    "\n",
    "# Setup connection to AMC\n",
    "amc = AMC.Device(IP)\n",
    "amc.connect()\n",
    "\n",
    "# Activate axis 1\n",
    "# Internally, axes are numbered 0 to 2\n",
    "axis0 = 0 # Axis 1\n",
    "amc.control.setControlOutput(axis0, True)\n",
    "\n",
    "# Activate axis 2\n",
    "axis1 = 1 # Axis 2\n",
    "amc.control.setControlOutput(axis1, True)\n",
    "\n",
    "axis2 = 2 # Axis 2\n",
    "amc.control.setControlOutput(axis2, True)\n",
    "\n",
    "\n",
    "\n",
    "from IPython.display import clear_output\n",
    "# y_move = 10\n",
    "# x_move = 19\n",
    "### RASTER SCAN FUNCTION: Run this before next kernel\n",
    "# cbm = CountBetweenMarkers(tt, SPD_CH, PIXEL_START_CH, PIXEL_STOP_CH, n_pixels)\n",
    "\n",
    "def raster_scan(x_move,y_move,x_step,y_step):\n",
    "    # count_data = cbm.getData()\n",
    "    t = 30e12\n",
    "    # x_step = 1\n",
    "    # y_step = 50\n",
    "    pos_xy = []\n",
    "    times = np.zeros((y_move,x_move+1))\n",
    "    \n",
    "    # clear_output(wait=True)\n",
    "    # pos_xy = [(0,0)]*(y_move*(x_move+1))\n",
    "    # plt.plot(*zip(*pos_xy),'g.')\n",
    "    # plt.show()\n",
    "    # j = 0\n",
    "    # pos_xy = [(amc.move.getPosition(axis0),amc.move.getPosition(axis1))]\n",
    "    amc.control.setControlAmplitude(axis1,35000) #22500 #35000 #25000 \n",
    "    m = 0\n",
    "    for i in range(y_move):\n",
    "        x = i\n",
    "        amc.move.setNSteps(axis1, False, y_step) ## Moves Up == False\n",
    "        # amc.move.setNSteps(axis1, True, y_step)  ## Moves Down == True\n",
    "        # cbm.getData()\n",
    "        # ard_sqwave(1) ## DAQ trigger\n",
    "        time.sleep(0.5) ## stop time in seconds\n",
    "        print((amc.move.getPosition(axis0),amc.move.getPosition(axis1)))\n",
    "        \n",
    "        histy = histo(t)\n",
    "        pos_xy.append((amc.move.getPosition(axis0),amc.move.getPosition(axis1),0.005*fit_lifetime(histy)))\n",
    "        # clear_output(wait=True)\n",
    "        if x%2 == 1:\n",
    "            times[i,x_move] = 0.005*fit_lifetime(histy)\n",
    "        else:\n",
    "            times[i,0] = 0.005*fit_lifetime(histy)\n",
    "        # plt.imshow(times)\n",
    "        # plt.show()\n",
    "#         clear_output(wait=True)\n",
    "        \n",
    "#         plt.plot(*zip(*pos_xy),'g.')\n",
    "#         plt.show()\n",
    "        \n",
    "        # pos_xy[m] = (amc.move.getPosition(axis0),amc.move.getPosition(axis1))\n",
    "        print(i)\n",
    "        # print((amc.move.getPosition(axis0),amc.move.getPosition(axis1)))\n",
    "        # print(count_data)\n",
    "        # m = m+1\n",
    "        for j in range(x_move):\n",
    "            # amc.move.setNSteps(axis0, x%2, x_step)\n",
    "            if x%2 == 1:\n",
    "                ### BACKWARD\n",
    "                amc.control.setControlAmplitude(axis0,34300) ## Changes amplitude in back (x avis) #22600 #25000 34300\n",
    "                # amc.control.setControlFrequency(axis0,999000)\n",
    "            else:\n",
    "                ### FORWARD\n",
    "                amc.control.setControlAmplitude(axis0,42301)  ## Changes amplitude in fwd (x avis) #27301 #29501  42301\n",
    "                # amc.control.setControlFrequency(axis0,999000)\n",
    "                \n",
    "            amc.move.setNSteps(axis0, x%2, x_step)  ## Moves in x\n",
    "            # pos_xy[m] = (amc.move.getPosition(axis0),amc.move.getPosition(axis1))\n",
    "            # ard_sqwave(1) ## DAQ trigger\n",
    "            time.sleep(0.5) ## stop time in seconds\n",
    "            print((amc.move.getPosition(axis0),amc.move.getPosition(axis1)))\n",
    "            histx = histo(t)\n",
    "            pos_xy.append((amc.move.getPosition(axis0),amc.move.getPosition(axis1),0.005*fit_lifetime(histx)))\n",
    "            # clear_output(wait=True)\n",
    "            # plt.plot(*zip(*pos_xy),'g.')\n",
    "            # plt.show()\n",
    "            # clear_output(wait=True)\n",
    "            if x%2 == 0:\n",
    "                times[i,j+1] = 0.005*fit_lifetime(histx)\n",
    "            else:\n",
    "                times[i,x_move-(j+1)] = 0.005*fit_lifetime(histx)\n",
    "                \n",
    "            # plt.imshow(times)\n",
    "            # plt.show()\n",
    "            print(j)\n",
    "            \n",
    "            # print(j,i,amc.control.getControlAmplitude(axis0),(amc.move.getPosition(axis0),amc.move.getPosition(axis1)))\n",
    "            # pos_xy.append((amc.move.getPosition(axis0),amc.move.getPosition(axis1),cbm.getData()[m]))\n",
    "            # print(j,i,amc.control.getControlAmplitude(axis0),(amc.move.getPosition(axis0),amc.move.getPosition(axis1)),cbm.getData()[m])\n",
    "            # # print(count_data)\n",
    "            # m = m+1\n",
    "           \n",
    "            # pos_x.append(amc.move.getPosition(axis0))\n",
    "        # print('Pos_x: ',amc.move.getPosition(axis0))\n",
    "        # pos_xy.append((amc.move.getPosition(axis0),amc.move.getPosition(axis1)))\n",
    "        # amc.move.setNSteps(axis1, False, y_step)\n",
    "        # pos_xy.append((amc.move.getPosition(axis0),amc.move.getPosition(axis1)))\n",
    "        # print(j,i,(amc.move.getPosition(axis0),amc.move.getPosition(axis1)))\n",
    "        # # daq_sqwave(1)\n",
    "        # time.sleep(0.5)\n",
    "    # return print('Scan Over')\n",
    "    # cbm.stop()\n",
    "    img = plt.imshow(times)\n",
    "    cbar = plt.colorbar(img)\n",
    "    plt.show()\n",
    "    print(pos_xy[0])\n",
    "    return pos_xy"
   ]
  },
  {
   "cell_type": "code",
   "execution_count": null,
   "id": "6fd304f8-ccda-4247-be73-d66706741170",
   "metadata": {},
   "outputs": [],
   "source": []
  },
  {
   "cell_type": "code",
   "execution_count": 185,
   "id": "55f79ba0-7721-4d80-8ed7-9f761e606fc4",
   "metadata": {},
   "outputs": [
    {
     "data": {
      "image/png": "[encoded data removed]",
      "text/plain": [
       "<Figure size 432x288 with 1 Axes>"
      ]
     },
     "metadata": {
      "needs_background": "light"
     },
     "output_type": "display_data"
    },
    {
     "name": "stdout",
     "output_type": "stream",
     "text": [
      "(1713917.102, 789642.032)\n",
      "3\n"
     ]
    },
    {
     "data": {
      "image/png": "[encoded data removed]",
      "text/plain": [
       "<Figure size 432x288 with 2 Axes>"
      ]
     },
     "metadata": {
      "needs_background": "light"
     },
     "output_type": "display_data"
    },
    {
     "name": "stdout",
     "output_type": "stream",
     "text": [
      "(1710891.284, 789636.897, 4.7853620111917605)\n"
     ]
    }
   ],
   "source": [
    "x_step = 1 #\n",
    "y_step = 1\n",
    "y_move = int(input(\"No. of steps in y:\"))\n",
    "x_move = int(input(\"No. of steps in x:\"))\n",
    "scan_num = int(input(\"Scan num:\"))\n",
    "save = input(\"Do you want to save the xy data for this scan (Yes or No)?\")\n",
    "from datetime import datetime\n",
    "date = datetime.today().strftime('%Y%m%d') #'20221207'\n",
    "folder_name = datetime.today().strftime('%B-%Y') #'20221207'\n",
    "sample = input(\"Sample name (without space):\")\n",
    "# print(save.type)\n",
    "\n",
    "# while cbm.isRunning():\n",
    "#     clear_output(wait=True)\n",
    "    \n",
    "#     # time.sleep(10)\n",
    "#     img = cr.getData()\n",
    "#     plt.plot(range(img.shape[1]),img[0][range(img.shape[1])])\n",
    "#     plt.show()\n",
    "# clear_output(wait=True)\n",
    "# plt.plot(*zip(*p),'g.')\n",
    "# plt.show()\n",
    "p = raster_scan(x_move,y_move,x_step,y_step)\n",
    "# print(p[0])\n",
    "if save == 'Yes':\n",
    "    import pandas as pd\n",
    "    df = pd.DataFrame(p, columns = ['X_data','Y_data','Lifetime'])\n",
    "\n",
    "    # # path = 'C:\\\\Users\\\\Praveen\\\\Desktop\\\\NVspectrum\\\\September-2022\\\\28_10_2022'\n",
    "    path = 'D:\\\\Data\\\\'+folder_name+'\\\\'+date\n",
    "    isExist = os.path.exists(path)\n",
    "    if not isExist:\n",
    "        os.makedirs(path)\n",
    "\n",
    "    df.to_csv(path+'\\\\'+sample+'_scan'+str(scan_num)+'_FLIM.csv', index=False)\n",
    "    xy = [(i[0],i[1]) for i in p]\n",
    "    print('Your file is saved as:',path+'\\\\'+sample+'_scan'+str(scan_num)+'_FLIM.csv')    \n",
    "\n",
    "# l1 = [0]*(y_move*y_move)\n",
    "# l2 = l1\n",
    "# len(list(zip(l1,l2)))"
   ]
  },
  {
   "cell_type": "code",
   "execution_count": 177,
   "id": "74bdc019-6881-4cf6-93d8-64cd027689f3",
   "metadata": {},
   "outputs": [
    {
     "name": "stdout",
     "output_type": "stream",
     "text": [
      "[(1709004.935, 788115.543, 6.381268650009814), (1709819.202, 788099.241, 4.976419857847626), (1710596.503, 788101.143, 4.949157621961008), (1711360.244, 788096.475, 4.362787089425145), (1712111.186, 788097.19, 5.250111684608296), (1712866.553, 788089.957, 4.4422287773401194)]\n"
     ]
    }
   ],
   "source": [
    "# plt.imshow(times)\n",
    "# t = 30e12\n",
    "# histo(t)\n",
    "\n",
    "print(p)"
   ]
  },
  {
   "cell_type": "code",
   "execution_count": 183,
   "id": "43ff872e-3911-4737-894d-beb43ca0ae4e",
   "metadata": {},
   "outputs": [
    {
     "ename": "KeyboardInterrupt",
     "evalue": "",
     "output_type": "error",
     "traceback": [
      "\u001b[1;31m---------------------------------------------------------------------------\u001b[0m",
      "\u001b[1;31mKeyboardInterrupt\u001b[0m                         Traceback (most recent call last)",
      "Input \u001b[1;32mIn [183]\u001b[0m, in \u001b[0;36m<cell line: 3>\u001b[1;34m()\u001b[0m\n\u001b[0;32m      1\u001b[0m \u001b[38;5;66;03m# jupyter notebook --NotebookApp.iopub_data_rate_limit=1.0e10\u001b[39;00m\n\u001b[0;32m      2\u001b[0m \u001b[38;5;28;01mwhile\u001b[39;00m \u001b[38;5;28;01mTrue\u001b[39;00m:\n\u001b[1;32m----> 3\u001b[0m     \u001b[43mtt\u001b[49m\u001b[38;5;241;43m.\u001b[39;49m\u001b[43mgetOverflowsAndClear\u001b[49m\u001b[43m(\u001b[49m\u001b[43m)\u001b[49m\n",
      "File \u001b[1;32mC:\\Program Files\\Swabian Instruments\\Time Tagger\\driver\\python\\TimeTagger.py:2974\u001b[0m, in \u001b[0;36mTimeTaggerBase.getOverflowsAndClear\u001b[1;34m(self)\u001b[0m\n\u001b[0;32m   2972\u001b[0m \u001b[38;5;28;01mdef\u001b[39;00m \u001b[38;5;21mgetOverflowsAndClear\u001b[39m(\u001b[38;5;28mself\u001b[39m):\n\u001b[0;32m   2973\u001b[0m     \u001b[38;5;124mr\u001b[39m\u001b[38;5;124;03m\"\"\"getOverflowsAndClear(self) -> long long\"\"\"\u001b[39;00m\n\u001b[1;32m-> 2974\u001b[0m     \u001b[38;5;28;01mreturn\u001b[39;00m \u001b[43m_TimeTagger\u001b[49m\u001b[38;5;241;43m.\u001b[39;49m\u001b[43mTimeTaggerBase_getOverflowsAndClear\u001b[49m\u001b[43m(\u001b[49m\u001b[38;5;28;43mself\u001b[39;49m\u001b[43m)\u001b[49m\n",
      "\u001b[1;31mKeyboardInterrupt\u001b[0m: "
     ]
    }
   ],
   "source": [
    "# jupyter notebook --NotebookApp.iopub_data_rate_limit=1.0e10\n",
    "while True:\n",
    "    tt.getOverflowsAndClear()\n",
    "    "
   ]
  },
  {
   "cell_type": "code",
   "execution_count": 151,
   "id": "c665ecef-1ba9-4f31-948b-7d68615f39e0",
   "metadata": {},
   "outputs": [
    {
     "data": {
      "text/plain": [
       "[3.978930785389284, 3.6234431007188412, 5.156311492890031, 3.2366750967457403]"
      ]
     },
     "execution_count": 151,
     "metadata": {},
     "output_type": "execute_result"
    }
   ],
   "source": [
    "# # for i in range(len(p)):\n",
    "# from scipy.optimize import curve_fit\n",
    "# #     x = \n",
    "# # i_max = np.amax(x:=p[0][2])\n",
    "# m = np.where(p[0][2][np.argmax(x):] == int(0.37*i_max))\n",
    "# # print(m,p[0][2][np.argmax(x):])\n",
    "# m = p[0][2]\n",
    "# inten = m[np.argmax(m):]\n",
    "# timeps = np.arange(5*np.argmax(m),5*6600,5)\n",
    "# # len(timeps)\n",
    "# # len(inten)\n",
    "# # timeps\n",
    "# # np.argmax(x)\n",
    "# # (625-633)*5\n",
    "# # inten\n",
    "# # guess_b, guess_d = 5000\n",
    "# # guess = [guess_b,guess_d]\n",
    "# # def test(x, b,y0):\n",
    "# #     return np.amax(m)*np.exp(-(x)/(b))\n",
    "# # def cal_lifetime():\n",
    "# #     i_max = np.amax\n",
    "\n",
    "# # params = curve_fit(test, timeps, inten, p0=guess)\n",
    "# # params\n",
    "\n",
    "# import pandas as pd\n",
    "# df2 = pd.DataFrame(p,columns=['x','y','intensity'])\n",
    "\n",
    "# df2.to_csv('flim_test.csv', index = False)\n",
    "# # plt.plot(timeps,inten)\n",
    "# p1 = [i[2] for i in p]\n",
    "\n",
    "\n",
    "\n",
    "# def fit_lifetime(x):\n",
    "#     m = range(len(x))\n",
    "#     max_i = np.argmax(x)\n",
    "#     t1 = m[max_i:]\n",
    "#     x1 = x[max_i:]\n",
    "#     def expdec(t,a,l,b):\n",
    "#     # a = x[max_i]\n",
    "#         return a*np.exp(-(t-np.argmax(x))/l) + b\n",
    "#     params, cov = curve_fit(expdec, t1, x1)\n",
    "#     return params[1]\n",
    "\n",
    "# # fit_lifetime(p1[0])\n",
    "# tau = [5*fit_lifetime(i)/1000 for i in p1]\n",
    "# tau"
   ]
  },
  {
   "cell_type": "code",
   "execution_count": 44,
   "id": "e662a133-9b4e-4521-b59f-790f8866f9c4",
   "metadata": {},
   "outputs": [
    {
     "name": "stdout",
     "output_type": "stream",
     "text": [
      "Your file is saved as: D:\\Data\\December-2022\\20221208\\Dye_scan1_MH_XY.csv\n"
     ]
    }
   ],
   "source": [
    "folder_name = datetime.today().strftime('%B-%Y') #'20221207'\n",
    "# file_name\n",
    "path = 'D:\\\\Data\\\\'+folder_name+'\\\\'+date\n"
   ]
  },
  {
   "cell_type": "code",
   "execution_count": 171,
   "id": "0568fe8e-1111-4ee1-8d5f-e8815938301f",
   "metadata": {},
   "outputs": [
    {
     "data": {
      "text/plain": [
       "[(1709353.236, 788070.268, 4.743557241601019),\n",
       " (1710165.862, 788062.848, 5.1641080351696065),\n",
       " (1710938.453, 788066.973, 5.26877602823466),\n",
       " (1711697.501, 788070.578, 4.136394519970274),\n",
       " (1712445.067, 788069.233, 3.835154116190555),\n",
       " (1713212.966, 788069.925, 3.641538364184764)]"
      ]
     },
     "execution_count": 171,
     "metadata": {},
     "output_type": "execute_result"
    }
   ],
   "source": [
    "# # # print(p[1][0]-p[2][0],p[13][0]-p[14][0],p[1][1]-p[13][1])\n",
    "# # with open(\"fl.txt\",mode=\"w\",errors=\"replace\") as fp:\n",
    "# #     for item in p:\n",
    "# #         # write each item on a new line\n",
    "# #         fp.write(item,\"\\n\")\n",
    "# #     fp.close()\n",
    "# import csv\n",
    "\n",
    "# with open(\"out.csv\", \"w\") as f:\n",
    "#     # wr = csv.writer(f)\n",
    "#     wr = csv.writer(f, delimiter=\",\")\n",
    "#     wr.writerows(p)\n",
    "#     # wr.writerows(list_of_lists)\n",
    "    \n",
    "# with open(\"out.csv\", \"w\") as f:\n",
    "p1 = [i[2].T for i in p]\n",
    "df = pd.DataFrame(p1).T\n",
    "# len(p1)\n",
    "# df[3]\n",
    "df.to_csv('fl_test.csv', index = False)\n",
    "\n",
    "p"
   ]
  },
  {
   "cell_type": "code",
   "execution_count": 168,
   "id": "499a7933-e84a-4e4c-aa21-3ca84f65dd0b",
   "metadata": {},
   "outputs": [
    {
     "ename": "KeyboardInterrupt",
     "evalue": "",
     "output_type": "error",
     "traceback": [
      "\u001b[1;31m---------------------------------------------------------------------------\u001b[0m",
      "\u001b[1;31mKeyboardInterrupt\u001b[0m                         Traceback (most recent call last)",
      "Input \u001b[1;32mIn [168]\u001b[0m, in \u001b[0;36m<cell line: 3>\u001b[1;34m()\u001b[0m\n\u001b[0;32m      1\u001b[0m \u001b[38;5;66;03m# jupyter notebook --NotebookApp.iopub_data_rate_limit=1.0e10\u001b[39;00m\n\u001b[0;32m      2\u001b[0m \u001b[38;5;28;01mwhile\u001b[39;00m \u001b[38;5;28;01mTrue\u001b[39;00m:\n\u001b[1;32m----> 3\u001b[0m     \u001b[43mtt\u001b[49m\u001b[38;5;241;43m.\u001b[39;49m\u001b[43mgetOverflowsAndClear\u001b[49m\u001b[43m(\u001b[49m\u001b[43m)\u001b[49m\n",
      "File \u001b[1;32mC:\\Program Files\\Swabian Instruments\\Time Tagger\\driver\\python\\TimeTagger.py:2974\u001b[0m, in \u001b[0;36mTimeTaggerBase.getOverflowsAndClear\u001b[1;34m(self)\u001b[0m\n\u001b[0;32m   2972\u001b[0m \u001b[38;5;28;01mdef\u001b[39;00m \u001b[38;5;21mgetOverflowsAndClear\u001b[39m(\u001b[38;5;28mself\u001b[39m):\n\u001b[0;32m   2973\u001b[0m     \u001b[38;5;124mr\u001b[39m\u001b[38;5;124;03m\"\"\"getOverflowsAndClear(self) -> long long\"\"\"\u001b[39;00m\n\u001b[1;32m-> 2974\u001b[0m     \u001b[38;5;28;01mreturn\u001b[39;00m \u001b[43m_TimeTagger\u001b[49m\u001b[38;5;241;43m.\u001b[39;49m\u001b[43mTimeTaggerBase_getOverflowsAndClear\u001b[49m\u001b[43m(\u001b[49m\u001b[38;5;28;43mself\u001b[39;49m\u001b[43m)\u001b[49m\n",
      "\u001b[1;31mKeyboardInterrupt\u001b[0m: "
     ]
    }
   ],
   "source": [
    "# jupyter notebook --NotebookApp.iopub_data_rate_limit=1.0e10\n",
    "while True:\n",
    "    tt.getOverflowsAndClear()\n",
    "    "
   ]
  },
  {
   "cell_type": "code",
   "execution_count": 169,
   "id": "47a49d19-a0b5-4016-8e77-23d2ff1f5c74",
   "metadata": {},
   "outputs": [
    {
     "data": {
      "text/plain": [
       "True"
      ]
     },
     "execution_count": 169,
     "metadata": {},
     "output_type": "execute_result"
    }
   ],
   "source": [
    "board.exit()\n",
    "freeTimeTagger(tt)\n",
    "# tt.getOverflows()"
   ]
  },
  {
   "cell_type": "code",
   "execution_count": 136,
   "id": "f9283474-823a-49e6-b21b-b3f544579013",
   "metadata": {},
   "outputs": [],
   "source": [
    "###########################  END  ########################################"
   ]
  },
  {
   "cell_type": "code",
   "execution_count": 134,
   "id": "5eb3c321-cc41-4a9e-8150-a1cc8e97aea7",
   "metadata": {},
   "outputs": [],
   "source": [
    "## Return to XY ref positions\n",
    "ref_posx = -2920591 #-589350 #nm\n",
    "amc.move.setControlTargetPosition(axis0, ref_posx)\n",
    "amc.control.setControlMove(axis0, True)\n"
   ]
  },
  {
   "cell_type": "code",
   "execution_count": 39,
   "id": "40bdea95-7756-444f-add5-fb86e4f79003",
   "metadata": {},
   "outputs": [],
   "source": [
    "# ref_posy = 368485 #nm\n",
    "# amc.move.setControlTargetPosition(axis1, ref_posy)\n",
    "# amc.control.setControlMove(axis1, False)\n",
    "for i in range(y_move):    \n",
    "    amc.move.setNSteps(axis1, True, y_step)"
   ]
  },
  {
   "cell_type": "code",
   "execution_count": 40,
   "id": "be4637c9-c5ec-4343-8dff-30612bb14e12",
   "metadata": {},
   "outputs": [
    {
     "name": "stdout",
     "output_type": "stream",
     "text": [
      "-196.77700000000186 237.35899999993853 205.44099999999162\n"
     ]
    }
   ],
   "source": [
    "# p[0][1]-p[1][1]\n",
    "\n",
    "# p\n",
    "# df = pd.DataFrame(p, columns = ['X_data','Y_data'])\n",
    "# scan_num = 5\n",
    "\n",
    "#     # # path = 'C:\\\\Users\\\\Praveen\\\\Desktop\\\\NVspectrum\\\\September-2022\\\\28_10_2022'\n",
    "# path = 'D:\\\\Data\\\\November-2022\\\\'+date\n",
    "# df.to_csv(path+'\\\\'+sample+'_scan'+str(scan_num)+'_MH_XY.csv', index=False)"
   ]
  },
  {
   "cell_type": "code",
   "execution_count": 26,
   "id": "bde0fe47-3701-4fab-93a4-53b87c04f154",
   "metadata": {},
   "outputs": [],
   "source": [
    "x_move = 9\n",
    "y_move = 10\n",
    "l1 = [(0,0)]*(y_move*(x_move+1))\n",
    "# len(l1)\n",
    "l1[0] = (1,2)\n",
    "\n",
    "# print(l1)\n"
   ]
  },
  {
   "cell_type": "code",
   "execution_count": 186,
   "id": "2b419cc8-8d95-4883-a694-eb7051eb9874",
   "metadata": {},
   "outputs": [
    {
     "data": {
      "text/plain": [
       "True"
      ]
     },
     "execution_count": 186,
     "metadata": {},
     "output_type": "execute_result"
    }
   ],
   "source": [
    "freeTimeTagger(tt)"
   ]
  }
 ],
 "metadata": {
  "kernelspec": {
   "display_name": "Python 3 (ipykernel)",
   "language": "python",
   "name": "python3"
  },
  "language_info": {
   "codemirror_mode": {
    "name": "ipython",
    "version": 3
   },
   "file_extension": ".py",
   "mimetype": "text/x-python",
   "name": "python",
   "nbconvert_exporter": "python",
   "pygments_lexer": "ipython3",
   "version": "3.9.12"
  }
 },
 "nbformat": 4,
 "nbformat_minor": 5
}
